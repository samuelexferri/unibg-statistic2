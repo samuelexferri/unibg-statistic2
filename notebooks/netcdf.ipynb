{
 "cells": [
  {
   "cell_type": "code",
   "execution_count": null,
   "metadata": {},
   "outputs": [],
   "source": [
    "# ANALISI PRELIMINARE SUL DATASET 1"
   ]
  },
  {
   "cell_type": "code",
   "execution_count": null,
   "metadata": {},
   "outputs": [],
   "source": [
    "from netCDF4 import Dataset"
   ]
  },
  {
   "cell_type": "code",
   "execution_count": null,
   "metadata": {},
   "outputs": [],
   "source": [
    "nc = Dataset('../datasets/CAMS-GLOB-ANT_Glb_0.1x0.1_anthro_nh3_v4.2_monthly.nc')"
   ]
  },
  {
   "cell_type": "code",
   "execution_count": null,
   "metadata": {},
   "outputs": [],
   "source": [
    "type(nc)"
   ]
  },
  {
   "cell_type": "code",
   "execution_count": null,
   "metadata": {},
   "outputs": [],
   "source": [
    "for i in nc.variables:\n",
    "    print('{} : {}'.format(nc.variables[i].name, nc.variables[i].datatype))"
   ]
  },
  {
   "cell_type": "code",
   "execution_count": null,
   "metadata": {},
   "outputs": [],
   "source": [
    "import xarray as xr"
   ]
  },
  {
   "cell_type": "code",
   "execution_count": null,
   "metadata": {},
   "outputs": [],
   "source": [
    "ncxr = xr.open_dataset('../datasets/CAMS-GLOB-ANT_Glb_0.1x0.1_anthro_nh3_v4.2_monthly.nc')"
   ]
  },
  {
   "cell_type": "code",
   "execution_count": null,
   "metadata": {},
   "outputs": [],
   "source": [
    "ncxr"
   ]
  },
  {
   "cell_type": "code",
   "execution_count": null,
   "metadata": {},
   "outputs": [],
   "source": [
    "agl = ncxr['agl']"
   ]
  },
  {
   "cell_type": "code",
   "execution_count": null,
   "metadata": {},
   "outputs": [],
   "source": [
    "dsloc = ncxr.sel(lon=9.60,lat=45.69,method='nearest')\n",
    "dsloc['agl'].plot()"
   ]
  },
  {
   "cell_type": "code",
   "execution_count": null,
   "metadata": {},
   "outputs": [],
   "source": [
    "dsloc = ncxr.sel(lon=9.65,lat=45.69,method='nearest')\n",
    "dsloc['agl'][0:24].plot()"
   ]
  },
  {
   "cell_type": "code",
   "execution_count": null,
   "metadata": {},
   "outputs": [],
   "source": [
    "nc.close()"
   ]
  },
  {
   "cell_type": "code",
   "execution_count": null,
   "metadata": {},
   "outputs": [],
   "source": [
    "# ANALISI PRELIMINARE SUL DATASET 2"
   ]
  },
  {
   "cell_type": "code",
   "execution_count": null,
   "metadata": {},
   "outputs": [],
   "source": [
    "import xarray as xr\n",
    "import matplotlib.pyplot as plt\n",
    "\n",
    "ds = xr.load_dataset('../datasets/CAMS-GLOB-ANT_Glb_0.1x0.1_anthro_nh3_v4.2_monthly.nc')\n",
    "\n",
    "dims = ds.dims\n",
    "coords = ds.coords\n",
    "\n",
    "print(ds.attrs['description'])\n",
    "\n",
    "# Approx bounding box Lombardia\n",
    "lat_bounds = slice(45, 46.2)\n",
    "lon_bounds = slice(8.60, 10.60)\n",
    "\n",
    "agl = ds.agl.sel(lat=lat_bounds, lon=lon_bounds)\n",
    "\n",
    "plt.figure()\n",
    "for i in range(12):\n",
    "    for j in range(20):\n",
    "        agl[:, i, j][0:12].plot()\n",
    "\n",
    "plt.figure()\n",
    "agl[:, 0, 0].plot()\n",
    "agl[:, -1, -1].plot()"
   ]
  },
  {
   "cell_type": "code",
   "execution_count": null,
   "metadata": {},
   "outputs": [],
   "source": [
    "# ANALISI PRELIMINARE SUL DATASET 3"
   ]
  },
  {
   "cell_type": "code",
   "execution_count": null,
   "metadata": {},
   "outputs": [],
   "source": [
    "import geopandas as gpd\n",
    "\n",
    "df = gpd.read_file('..\\\\resources\\\\Regione_10000_CT10_polygon\\\\Regione_10000_CT10_polygon.shp')\n",
    "df.plot()"
   ]
  },
  {
   "cell_type": "code",
   "execution_count": null,
   "metadata": {},
   "outputs": [],
   "source": [
    "df = gpd.read_file('..\\\\resources\\\\REGIONE_LOMBARDIA\\\\Province_2015.shp')\n",
    "df.plot()"
   ]
  },
  {
   "cell_type": "code",
   "execution_count": null,
   "metadata": {},
   "outputs": [],
   "source": [
    "df = gpd.read_file('..\\\\resources\\\\REGIONE_LOMBARDIA\\\\Comuni_2015.shp')\n",
    "df.plot()"
   ]
  },
  {
   "source": [
    "# Re-Projecting data geometry\n",
    "print(df.columns)\n",
    "print(df.crs)\n",
    "\n",
    "df_wgs84 = df.to_crs({'init': 'epsg:4326'}) \n",
    "df_wgs84.head(2)"
   ],
   "cell_type": "code",
   "metadata": {},
   "execution_count": null,
   "outputs": []
  },
  {
   "cell_type": "code",
   "execution_count": null,
   "metadata": {},
   "outputs": [],
   "source": [
    "df_wgs84.plot()"
   ]
  },
  {
   "cell_type": "code",
   "execution_count": null,
   "metadata": {},
   "outputs": [],
   "source": [
    "# SALEM"
   ]
  },
  {
   "cell_type": "code",
   "execution_count": 85,
   "metadata": {},
   "outputs": [
    {
     "output_type": "execute_result",
     "data": {
      "text/plain": [
       "<xarray.Dataset>\n",
       "Dimensions:  (lat: 12, lon: 20, time: 252)\n",
       "Coordinates:\n",
       "  * lat      (lat) float32 45.05 45.15 45.25 45.35 ... 45.85 45.95 46.05 46.15\n",
       "  * lon      (lon) float32 8.65 8.75 8.85 8.95 9.05 ... 10.25 10.35 10.45 10.55\n",
       "  * time     (time) datetime64[ns] 2000-01-15 2000-02-15 ... 2020-12-15\n",
       "Data variables:\n",
       "    agl      (time, lat, lon) float32 ...\n",
       "Attributes:\n",
       "    pyproj_srs:  +proj=longlat +datum=WGS84 +no_defs"
      ],
      "text/html": "<div><svg style=\"position: absolute; width: 0; height: 0; overflow: hidden\">\n<defs>\n<symbol id=\"icon-database\" viewBox=\"0 0 32 32\">\n<path d=\"M16 0c-8.837 0-16 2.239-16 5v4c0 2.761 7.163 5 16 5s16-2.239 16-5v-4c0-2.761-7.163-5-16-5z\"></path>\n<path d=\"M16 17c-8.837 0-16-2.239-16-5v6c0 2.761 7.163 5 16 5s16-2.239 16-5v-6c0 2.761-7.163 5-16 5z\"></path>\n<path d=\"M16 26c-8.837 0-16-2.239-16-5v6c0 2.761 7.163 5 16 5s16-2.239 16-5v-6c0 2.761-7.163 5-16 5z\"></path>\n</symbol>\n<symbol id=\"icon-file-text2\" viewBox=\"0 0 32 32\">\n<path d=\"M28.681 7.159c-0.694-0.947-1.662-2.053-2.724-3.116s-2.169-2.030-3.116-2.724c-1.612-1.182-2.393-1.319-2.841-1.319h-15.5c-1.378 0-2.5 1.121-2.5 2.5v27c0 1.378 1.122 2.5 2.5 2.5h23c1.378 0 2.5-1.122 2.5-2.5v-19.5c0-0.448-0.137-1.23-1.319-2.841zM24.543 5.457c0.959 0.959 1.712 1.825 2.268 2.543h-4.811v-4.811c0.718 0.556 1.584 1.309 2.543 2.268zM28 29.5c0 0.271-0.229 0.5-0.5 0.5h-23c-0.271 0-0.5-0.229-0.5-0.5v-27c0-0.271 0.229-0.5 0.5-0.5 0 0 15.499-0 15.5 0v7c0 0.552 0.448 1 1 1h7v19.5z\"></path>\n<path d=\"M23 26h-14c-0.552 0-1-0.448-1-1s0.448-1 1-1h14c0.552 0 1 0.448 1 1s-0.448 1-1 1z\"></path>\n<path d=\"M23 22h-14c-0.552 0-1-0.448-1-1s0.448-1 1-1h14c0.552 0 1 0.448 1 1s-0.448 1-1 1z\"></path>\n<path d=\"M23 18h-14c-0.552 0-1-0.448-1-1s0.448-1 1-1h14c0.552 0 1 0.448 1 1s-0.448 1-1 1z\"></path>\n</symbol>\n</defs>\n</svg>\n<style>/* CSS stylesheet for displaying xarray objects in jupyterlab.\n *\n */\n\n:root {\n  --xr-font-color0: var(--jp-content-font-color0, rgba(0, 0, 0, 1));\n  --xr-font-color2: var(--jp-content-font-color2, rgba(0, 0, 0, 0.54));\n  --xr-font-color3: var(--jp-content-font-color3, rgba(0, 0, 0, 0.38));\n  --xr-border-color: var(--jp-border-color2, #e0e0e0);\n  --xr-disabled-color: var(--jp-layout-color3, #bdbdbd);\n  --xr-background-color: var(--jp-layout-color0, white);\n  --xr-background-color-row-even: var(--jp-layout-color1, white);\n  --xr-background-color-row-odd: var(--jp-layout-color2, #eeeeee);\n}\n\nhtml[theme=dark],\nbody.vscode-dark {\n  --xr-font-color0: rgba(255, 255, 255, 1);\n  --xr-font-color2: rgba(255, 255, 255, 0.54);\n  --xr-font-color3: rgba(255, 255, 255, 0.38);\n  --xr-border-color: #1F1F1F;\n  --xr-disabled-color: #515151;\n  --xr-background-color: #111111;\n  --xr-background-color-row-even: #111111;\n  --xr-background-color-row-odd: #313131;\n}\n\n.xr-wrap {\n  display: block;\n  min-width: 300px;\n  max-width: 700px;\n}\n\n.xr-text-repr-fallback {\n  /* fallback to plain text repr when CSS is not injected (untrusted notebook) */\n  display: none;\n}\n\n.xr-header {\n  padding-top: 6px;\n  padding-bottom: 6px;\n  margin-bottom: 4px;\n  border-bottom: solid 1px var(--xr-border-color);\n}\n\n.xr-header > div,\n.xr-header > ul {\n  display: inline;\n  margin-top: 0;\n  margin-bottom: 0;\n}\n\n.xr-obj-type,\n.xr-array-name {\n  margin-left: 2px;\n  margin-right: 10px;\n}\n\n.xr-obj-type {\n  color: var(--xr-font-color2);\n}\n\n.xr-sections {\n  padding-left: 0 !important;\n  display: grid;\n  grid-template-columns: 150px auto auto 1fr 20px 20px;\n}\n\n.xr-section-item {\n  display: contents;\n}\n\n.xr-section-item input {\n  display: none;\n}\n\n.xr-section-item input + label {\n  color: var(--xr-disabled-color);\n}\n\n.xr-section-item input:enabled + label {\n  cursor: pointer;\n  color: var(--xr-font-color2);\n}\n\n.xr-section-item input:enabled + label:hover {\n  color: var(--xr-font-color0);\n}\n\n.xr-section-summary {\n  grid-column: 1;\n  color: var(--xr-font-color2);\n  font-weight: 500;\n}\n\n.xr-section-summary > span {\n  display: inline-block;\n  padding-left: 0.5em;\n}\n\n.xr-section-summary-in:disabled + label {\n  color: var(--xr-font-color2);\n}\n\n.xr-section-summary-in + label:before {\n  display: inline-block;\n  content: '►';\n  font-size: 11px;\n  width: 15px;\n  text-align: center;\n}\n\n.xr-section-summary-in:disabled + label:before {\n  color: var(--xr-disabled-color);\n}\n\n.xr-section-summary-in:checked + label:before {\n  content: '▼';\n}\n\n.xr-section-summary-in:checked + label > span {\n  display: none;\n}\n\n.xr-section-summary,\n.xr-section-inline-details {\n  padding-top: 4px;\n  padding-bottom: 4px;\n}\n\n.xr-section-inline-details {\n  grid-column: 2 / -1;\n}\n\n.xr-section-details {\n  display: none;\n  grid-column: 1 / -1;\n  margin-bottom: 5px;\n}\n\n.xr-section-summary-in:checked ~ .xr-section-details {\n  display: contents;\n}\n\n.xr-array-wrap {\n  grid-column: 1 / -1;\n  display: grid;\n  grid-template-columns: 20px auto;\n}\n\n.xr-array-wrap > label {\n  grid-column: 1;\n  vertical-align: top;\n}\n\n.xr-preview {\n  color: var(--xr-font-color3);\n}\n\n.xr-array-preview,\n.xr-array-data {\n  padding: 0 5px !important;\n  grid-column: 2;\n}\n\n.xr-array-data,\n.xr-array-in:checked ~ .xr-array-preview {\n  display: none;\n}\n\n.xr-array-in:checked ~ .xr-array-data,\n.xr-array-preview {\n  display: inline-block;\n}\n\n.xr-dim-list {\n  display: inline-block !important;\n  list-style: none;\n  padding: 0 !important;\n  margin: 0;\n}\n\n.xr-dim-list li {\n  display: inline-block;\n  padding: 0;\n  margin: 0;\n}\n\n.xr-dim-list:before {\n  content: '(';\n}\n\n.xr-dim-list:after {\n  content: ')';\n}\n\n.xr-dim-list li:not(:last-child):after {\n  content: ',';\n  padding-right: 5px;\n}\n\n.xr-has-index {\n  font-weight: bold;\n}\n\n.xr-var-list,\n.xr-var-item {\n  display: contents;\n}\n\n.xr-var-item > div,\n.xr-var-item label,\n.xr-var-item > .xr-var-name span {\n  background-color: var(--xr-background-color-row-even);\n  margin-bottom: 0;\n}\n\n.xr-var-item > .xr-var-name:hover span {\n  padding-right: 5px;\n}\n\n.xr-var-list > li:nth-child(odd) > div,\n.xr-var-list > li:nth-child(odd) > label,\n.xr-var-list > li:nth-child(odd) > .xr-var-name span {\n  background-color: var(--xr-background-color-row-odd);\n}\n\n.xr-var-name {\n  grid-column: 1;\n}\n\n.xr-var-dims {\n  grid-column: 2;\n}\n\n.xr-var-dtype {\n  grid-column: 3;\n  text-align: right;\n  color: var(--xr-font-color2);\n}\n\n.xr-var-preview {\n  grid-column: 4;\n}\n\n.xr-var-name,\n.xr-var-dims,\n.xr-var-dtype,\n.xr-preview,\n.xr-attrs dt {\n  white-space: nowrap;\n  overflow: hidden;\n  text-overflow: ellipsis;\n  padding-right: 10px;\n}\n\n.xr-var-name:hover,\n.xr-var-dims:hover,\n.xr-var-dtype:hover,\n.xr-attrs dt:hover {\n  overflow: visible;\n  width: auto;\n  z-index: 1;\n}\n\n.xr-var-attrs,\n.xr-var-data {\n  display: none;\n  background-color: var(--xr-background-color) !important;\n  padding-bottom: 5px !important;\n}\n\n.xr-var-attrs-in:checked ~ .xr-var-attrs,\n.xr-var-data-in:checked ~ .xr-var-data {\n  display: block;\n}\n\n.xr-var-data > table {\n  float: right;\n}\n\n.xr-var-name span,\n.xr-var-data,\n.xr-attrs {\n  padding-left: 25px !important;\n}\n\n.xr-attrs,\n.xr-var-attrs,\n.xr-var-data {\n  grid-column: 1 / -1;\n}\n\ndl.xr-attrs {\n  padding: 0;\n  margin: 0;\n  display: grid;\n  grid-template-columns: 125px auto;\n}\n\n.xr-attrs dt, dd {\n  padding: 0;\n  margin: 0;\n  float: left;\n  padding-right: 10px;\n  width: auto;\n}\n\n.xr-attrs dt {\n  font-weight: normal;\n  grid-column: 1;\n}\n\n.xr-attrs dt:hover span {\n  display: inline-block;\n  background: var(--xr-background-color);\n  padding-right: 10px;\n}\n\n.xr-attrs dd {\n  grid-column: 2;\n  white-space: pre-wrap;\n  word-break: break-all;\n}\n\n.xr-icon-database,\n.xr-icon-file-text2 {\n  display: inline-block;\n  vertical-align: middle;\n  width: 1em;\n  height: 1.5em !important;\n  stroke-width: 0;\n  stroke: currentColor;\n  fill: currentColor;\n}\n</style><pre class='xr-text-repr-fallback'>&lt;xarray.Dataset&gt;\nDimensions:  (lat: 12, lon: 20, time: 252)\nCoordinates:\n  * lat      (lat) float32 45.05 45.15 45.25 45.35 ... 45.85 45.95 46.05 46.15\n  * lon      (lon) float32 8.65 8.75 8.85 8.95 9.05 ... 10.25 10.35 10.45 10.55\n  * time     (time) datetime64[ns] 2000-01-15 2000-02-15 ... 2020-12-15\nData variables:\n    agl      (time, lat, lon) float32 1.3702604e-06 ... 8.623907e-08\nAttributes:\n    pyproj_srs:  +proj=longlat +datum=WGS84 +no_defs</pre><div class='xr-wrap' hidden><div class='xr-header'><div class='xr-obj-type'>xarray.Dataset</div></div><ul class='xr-sections'><li class='xr-section-item'><input id='section-e5f9f155-64ec-4f8e-ae6b-2feb73a93ee3' class='xr-section-summary-in' type='checkbox' disabled ><label for='section-e5f9f155-64ec-4f8e-ae6b-2feb73a93ee3' class='xr-section-summary'  title='Expand/collapse section'>Dimensions:</label><div class='xr-section-inline-details'><ul class='xr-dim-list'><li><span class='xr-has-index'>lat</span>: 12</li><li><span class='xr-has-index'>lon</span>: 20</li><li><span class='xr-has-index'>time</span>: 252</li></ul></div><div class='xr-section-details'></div></li><li class='xr-section-item'><input id='section-5defd5c4-55c9-427e-b740-2fc3940e32de' class='xr-section-summary-in' type='checkbox'  checked><label for='section-5defd5c4-55c9-427e-b740-2fc3940e32de' class='xr-section-summary' >Coordinates: <span>(3)</span></label><div class='xr-section-inline-details'></div><div class='xr-section-details'><ul class='xr-var-list'><li class='xr-var-item'><div class='xr-var-name'><span class='xr-has-index'>lat</span></div><div class='xr-var-dims'>(lat)</div><div class='xr-var-dtype'>float32</div><div class='xr-var-preview xr-preview'>45.05 45.15 45.25 ... 46.05 46.15</div><input id='attrs-34a305ea-522a-4077-aa4d-ff1f46ce33a5' class='xr-var-attrs-in' type='checkbox' ><label for='attrs-34a305ea-522a-4077-aa4d-ff1f46ce33a5' title='Show/Hide attributes'><svg class='icon xr-icon-file-text2'><use xlink:href='#icon-file-text2'></use></svg></label><input id='data-9d9ddf72-0684-4368-b976-ee6670c09cd5' class='xr-var-data-in' type='checkbox'><label for='data-9d9ddf72-0684-4368-b976-ee6670c09cd5' title='Show/Hide data repr'><svg class='icon xr-icon-database'><use xlink:href='#icon-database'></use></svg></label><div class='xr-var-attrs'><dl class='xr-attrs'><dt><span>long_name :</span></dt><dd>latitude</dd><dt><span>standard_name :</span></dt><dd>latitude</dd><dt><span>units :</span></dt><dd>degrees_north</dd><dt><span>comment :</span></dt><dd>center_of_cell</dd></dl></div><div class='xr-var-data'><pre>array([45.05, 45.15, 45.25, 45.35, 45.45, 45.55, 45.65, 45.75, 45.85, 45.95,\n       46.05, 46.15], dtype=float32)</pre></div></li><li class='xr-var-item'><div class='xr-var-name'><span class='xr-has-index'>lon</span></div><div class='xr-var-dims'>(lon)</div><div class='xr-var-dtype'>float32</div><div class='xr-var-preview xr-preview'>8.65 8.75 8.85 ... 10.45 10.55</div><input id='attrs-022ceb1b-5319-4a30-a675-e84d7b886fe6' class='xr-var-attrs-in' type='checkbox' ><label for='attrs-022ceb1b-5319-4a30-a675-e84d7b886fe6' title='Show/Hide attributes'><svg class='icon xr-icon-file-text2'><use xlink:href='#icon-file-text2'></use></svg></label><input id='data-708a6a7d-6202-4044-a7c9-c36dbefdacef' class='xr-var-data-in' type='checkbox'><label for='data-708a6a7d-6202-4044-a7c9-c36dbefdacef' title='Show/Hide data repr'><svg class='icon xr-icon-database'><use xlink:href='#icon-database'></use></svg></label><div class='xr-var-attrs'><dl class='xr-attrs'><dt><span>long_name :</span></dt><dd>longitude</dd><dt><span>standard_name :</span></dt><dd>longitude</dd><dt><span>units :</span></dt><dd>degrees_east</dd><dt><span>comment :</span></dt><dd>center_of_cell</dd></dl></div><div class='xr-var-data'><pre>array([ 8.65,  8.75,  8.85,  8.95,  9.05,  9.15,  9.25,  9.35,  9.45,  9.55,\n        9.65,  9.75,  9.85,  9.95, 10.05, 10.15, 10.25, 10.35, 10.45, 10.55],\n      dtype=float32)</pre></div></li><li class='xr-var-item'><div class='xr-var-name'><span class='xr-has-index'>time</span></div><div class='xr-var-dims'>(time)</div><div class='xr-var-dtype'>datetime64[ns]</div><div class='xr-var-preview xr-preview'>2000-01-15 ... 2020-12-15</div><input id='attrs-a1791043-e1a7-4c9e-8a8c-d850422994f0' class='xr-var-attrs-in' type='checkbox' ><label for='attrs-a1791043-e1a7-4c9e-8a8c-d850422994f0' title='Show/Hide attributes'><svg class='icon xr-icon-file-text2'><use xlink:href='#icon-file-text2'></use></svg></label><input id='data-7bb6d8d8-b5b1-48b1-86bc-87c5df7dd693' class='xr-var-data-in' type='checkbox'><label for='data-7bb6d8d8-b5b1-48b1-86bc-87c5df7dd693' title='Show/Hide data repr'><svg class='icon xr-icon-database'><use xlink:href='#icon-database'></use></svg></label><div class='xr-var-attrs'><dl class='xr-attrs'><dt><span>long_name :</span></dt><dd>time</dd><dt><span>standard_name :</span></dt><dd>time</dd></dl></div><div class='xr-var-data'><pre>array([&#x27;2000-01-15T00:00:00.000000000&#x27;, &#x27;2000-02-15T00:00:00.000000000&#x27;,\n       &#x27;2000-03-15T00:00:00.000000000&#x27;, ..., &#x27;2020-10-15T00:00:00.000000000&#x27;,\n       &#x27;2020-11-15T00:00:00.000000000&#x27;, &#x27;2020-12-15T00:00:00.000000000&#x27;],\n      dtype=&#x27;datetime64[ns]&#x27;)</pre></div></li></ul></div></li><li class='xr-section-item'><input id='section-3d3f2e2e-6e11-4e2e-a1cf-48bc409baf4c' class='xr-section-summary-in' type='checkbox'  checked><label for='section-3d3f2e2e-6e11-4e2e-a1cf-48bc409baf4c' class='xr-section-summary' >Data variables: <span>(1)</span></label><div class='xr-section-inline-details'></div><div class='xr-section-details'><ul class='xr-var-list'><li class='xr-var-item'><div class='xr-var-name'><span>agl</span></div><div class='xr-var-dims'>(time, lat, lon)</div><div class='xr-var-dtype'>float32</div><div class='xr-var-preview xr-preview'>...</div><input id='attrs-002a8c7e-1bb3-490d-b333-610477355f5f' class='xr-var-attrs-in' type='checkbox' ><label for='attrs-002a8c7e-1bb3-490d-b333-610477355f5f' title='Show/Hide attributes'><svg class='icon xr-icon-file-text2'><use xlink:href='#icon-file-text2'></use></svg></label><input id='data-179754c2-ff80-41a7-b0de-fe8d2fee7a99' class='xr-var-data-in' type='checkbox'><label for='data-179754c2-ff80-41a7-b0de-fe8d2fee7a99' title='Show/Hide data repr'><svg class='icon xr-icon-database'><use xlink:href='#icon-database'></use></svg></label><div class='xr-var-attrs'><dl class='xr-attrs'><dt><span>units :</span></dt><dd>Tg yr-1</dd><dt><span>sector_name :</span></dt><dd>Agriculture livestock (mma)</dd><dt><span>standard_name :</span></dt><dd>tendency_of_atmosphere_mass_content_of_nh3_due_to_emissions_from_agl_sector</dd><dt><span>cell_method :</span></dt><dd>time: sum (interval: 1 year comment: gregorian calendar) </dd><dt><span>molecular_weight :</span></dt><dd>17.0</dd><dt><span>long_name :</span></dt><dd>Emissions of nh3 for agl sectors</dd><dt><span>pyproj_srs :</span></dt><dd>+proj=longlat +datum=WGS84 +no_defs</dd></dl></div><div class='xr-var-data'><pre>array([[[1.370260e-06, 1.618773e-06, ..., 1.865814e-05, 1.181885e-05],\n        [2.666532e-06, 8.196366e-07, ..., 1.505924e-05, 2.252034e-05],\n        ...,\n        [1.959876e-07, 2.637278e-07, ..., 2.523079e-07, 2.020250e-07],\n        [1.525280e-06, 7.768132e-07, ..., 2.368744e-07, 8.015562e-08]],\n\n       [[1.309633e-06, 1.547150e-06, ..., 1.866638e-05, 1.182407e-05],\n        [2.548550e-06, 7.833714e-07, ..., 1.506588e-05, 2.253028e-05],\n        ...,\n        [1.873160e-07, 2.520590e-07, ..., 2.524193e-07, 2.021142e-07],\n        [1.457793e-06, 7.424428e-07, ..., 2.369790e-07, 8.019101e-08]],\n\n       ...,\n\n       [[1.777130e-06, 2.293633e-06, ..., 2.813864e-05, 1.922346e-05],\n        [3.381063e-06, 1.102325e-06, ..., 2.364349e-05, 3.586170e-05],\n        ...,\n        [4.440407e-07, 3.499184e-07, ..., 3.520135e-07, 2.849695e-07],\n        [2.191624e-06, 1.106691e-06, ..., 3.257604e-07, 1.132725e-07]],\n\n       [[1.444800e-06, 1.864715e-06, ..., 2.142311e-05, 1.463563e-05],\n        [2.748792e-06, 8.961860e-07, ..., 1.800077e-05, 2.730301e-05],\n        ...,\n        [3.610034e-07, 2.844823e-07, ..., 2.680026e-07, 2.169592e-07],\n        [1.781782e-06, 8.997355e-07, ..., 2.480150e-07, 8.623907e-08]]],\n      dtype=float32)</pre></div></li></ul></div></li><li class='xr-section-item'><input id='section-9a372c79-1491-4936-b369-d83ab8218d73' class='xr-section-summary-in' type='checkbox'  checked><label for='section-9a372c79-1491-4936-b369-d83ab8218d73' class='xr-section-summary' >Attributes: <span>(1)</span></label><div class='xr-section-inline-details'></div><div class='xr-section-details'><dl class='xr-attrs'><dt><span>pyproj_srs :</span></dt><dd>+proj=longlat +datum=WGS84 +no_defs</dd></dl></div></li></ul></div></div>"
     },
     "metadata": {},
     "execution_count": 85
    }
   ],
   "source": [
    "import numpy as np\n",
    "import xarray as xr\n",
    "import salem\n",
    "\n",
    "# dse = salem.open_xr_dataset('..\\\\datasets\\\\CAMS-GLOB-ANT_Glb_0.1x0.1_anthro_nh3_v4.2_monthly.nc')\n",
    "ds = salem.open_xr_dataset('..\\\\datasets\\\\agl_lombardia.nc')\n",
    "\n",
    "ds"
   ]
  },
  {
   "cell_type": "code",
   "execution_count": 86,
   "metadata": {},
   "outputs": [],
   "source": [
    "from shapely import speedups\n",
    "speedups.disable()"
   ]
  },
  {
   "cell_type": "code",
   "execution_count": 93,
   "metadata": {},
   "outputs": [
    {
     "output_type": "execute_result",
     "data": {
      "text/plain": [
       "<salem.graphics.Map at 0x2940adf6730>"
      ]
     },
     "metadata": {},
     "execution_count": 93
    },
    {
     "output_type": "display_data",
     "data": {
      "text/plain": "<Figure size 432x288 with 2 Axes>",
      "image/png": "[encoded data removed]"
     },
     "metadata": {
      "needs_background": "light"
     }
    }
   ],
   "source": [
    "dsr = ds.salem.roi(shape='..\\\\resources\\\\Regione_10000_CT10_polygon\\\\Regione_10000_CT10_polygon.shp')\n",
    "\n",
    "dsr.agl.mean(dim='time').salem.quick_map()"
   ]
  },
  {
   "cell_type": "code",
   "execution_count": 92,
   "metadata": {},
   "outputs": [
    {
     "output_type": "execute_result",
     "data": {
      "text/plain": [
       "<salem.graphics.Map at 0x2940a9b5220>"
      ]
     },
     "metadata": {},
     "execution_count": 92
    },
    {
     "output_type": "display_data",
     "data": {
      "text/plain": "<Figure size 432x288 with 2 Axes>",
      "image/png": "[encoded data removed]"
     },
     "metadata": {
      "needs_background": "light"
     }
    }
   ],
   "source": [
    "dsr.agl.isel(time=0).salem.quick_map()"
   ]
  },
  {
   "cell_type": "code",
   "execution_count": null,
   "metadata": {},
   "outputs": [],
   "source": []
  }
 ],
 "metadata": {
  "kernelspec": {
   "name": "python3",
   "display_name": "Python 3"
  },
  "language_info": {
   "codemirror_mode": {
    "name": "ipython",
    "version": 3
   },
   "file_extension": ".py",
   "mimetype": "text/x-python",
   "name": "python",
   "nbconvert_exporter": "python",
   "pygments_lexer": "ipython3",
   "version": "3.8.6-final"
  }
 },
 "nbformat": 4,
 "nbformat_minor": 4
}