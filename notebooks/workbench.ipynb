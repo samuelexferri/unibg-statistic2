{
 "metadata": {
  "language_info": {
   "codemirror_mode": {
    "name": "ipython",
    "version": 3
   },
   "file_extension": ".py",
   "mimetype": "text/x-python",
   "name": "python",
   "nbconvert_exporter": "python",
   "pygments_lexer": "ipython3",
   "version": "3.8.6-final"
  },
  "orig_nbformat": 2,
  "kernelspec": {
   "name": "python3",
   "display_name": "Python 3"
  }
 },
 "nbformat": 4,
 "nbformat_minor": 2,
 "cells": [
  {
   "cell_type": "code",
   "execution_count": 1,
   "metadata": {},
   "outputs": [
    {
     "output_type": "stream",
     "name": "stdout",
     "text": [
      "Adjusting time: 0\n",
      "Adjusting time: 1\n",
      "Adjusting time: 2\n",
      "Adjusting time: 3\n",
      "Adjusting time: 4\n",
      "Adjusting time: 5\n",
      "Adjusting time: 6\n",
      "Adjusting time: 7\n",
      "Adjusting time: 8\n",
      "Adjusting time: 9\n",
      "Adjusting time: 10\n",
      "Adjusting time: 11\n",
      "Adjusting time: 12\n",
      "Adjusting time: 13\n",
      "Adjusting time: 14\n",
      "Adjusting time: 15\n",
      "Adjusting time: 16\n",
      "Adjusting time: 17\n",
      "Adjusting time: 18\n",
      "Adjusting time: 19\n",
      "Adjusting time: 20\n",
      "Adjusting time: 21\n",
      "Adjusting time: 22\n",
      "Adjusting time: 23\n",
      "Adjusting time: 24\n",
      "Adjusting time: 25\n",
      "Adjusting time: 26\n",
      "Adjusting time: 27\n",
      "Adjusting time: 28\n",
      "Adjusting time: 29\n",
      "Adjusting time: 30\n",
      "Adjusting time: 31\n",
      "Adjusting time: 32\n",
      "Adjusting time: 33\n",
      "Adjusting time: 34\n",
      "Adjusting time: 35\n",
      "Adjusting time: 36\n",
      "Adjusting time: 37\n",
      "Adjusting time: 38\n",
      "Adjusting time: 39\n",
      "Adjusting time: 40\n",
      "Adjusting time: 41\n",
      "Adjusting time: 42\n",
      "Adjusting time: 43\n",
      "Adjusting time: 44\n",
      "Adjusting time: 45\n",
      "Adjusting time: 46\n",
      "Adjusting time: 47\n",
      "Adjusting time: 48\n",
      "Adjusting time: 49\n",
      "Adjusting time: 50\n",
      "Adjusting time: 51\n",
      "Adjusting time: 52\n",
      "Adjusting time: 53\n",
      "Adjusting time: 54\n",
      "Adjusting time: 55\n",
      "Adjusting time: 56\n",
      "Adjusting time: 57\n",
      "Adjusting time: 58\n",
      "Adjusting time: 59\n",
      "Adjusting time: 60\n",
      "Adjusting time: 61\n",
      "Adjusting time: 62\n",
      "Adjusting time: 63\n",
      "Adjusting time: 64\n",
      "Adjusting time: 65\n",
      "Adjusting time: 66\n",
      "Adjusting time: 67\n",
      "Adjusting time: 68\n",
      "Adjusting time: 69\n",
      "Adjusting time: 70\n",
      "Adjusting time: 71\n",
      "Adjusting time: 72\n",
      "Adjusting time: 73\n",
      "Adjusting time: 74\n",
      "Adjusting time: 75\n",
      "Adjusting time: 76\n",
      "Adjusting time: 77\n",
      "Adjusting time: 78\n",
      "Adjusting time: 79\n",
      "Adjusting time: 80\n",
      "Adjusting time: 81\n",
      "Adjusting time: 82\n",
      "Adjusting time: 83\n",
      "Adjusting time: 84\n",
      "Adjusting time: 85\n",
      "Adjusting time: 86\n",
      "Adjusting time: 87\n",
      "Adjusting time: 88\n",
      "Adjusting time: 89\n",
      "Adjusting time: 90\n",
      "Adjusting time: 91\n",
      "Adjusting time: 92\n",
      "Adjusting time: 93\n",
      "Adjusting time: 94\n",
      "Adjusting time: 95\n",
      "Adjusting time: 96\n",
      "Adjusting time: 97\n",
      "Adjusting time: 98\n",
      "Adjusting time: 99\n",
      "Adjusting time: 100\n",
      "Adjusting time: 101\n",
      "Adjusting time: 102\n",
      "Adjusting time: 103\n",
      "Adjusting time: 104\n",
      "Adjusting time: 105\n",
      "Adjusting time: 106\n",
      "Adjusting time: 107\n",
      "Adjusting time: 108\n",
      "Adjusting time: 109\n",
      "Adjusting time: 110\n",
      "Adjusting time: 111\n",
      "Adjusting time: 112\n",
      "Adjusting time: 113\n",
      "Adjusting time: 114\n",
      "Adjusting time: 115\n",
      "Adjusting time: 116\n",
      "Adjusting time: 117\n",
      "Adjusting time: 118\n",
      "Adjusting time: 119\n",
      "Adjusting time: 120\n",
      "Adjusting time: 121\n",
      "Adjusting time: 122\n",
      "Adjusting time: 123\n",
      "Adjusting time: 124\n",
      "Adjusting time: 125\n",
      "Adjusting time: 126\n",
      "Adjusting time: 127\n",
      "Adjusting time: 128\n",
      "Adjusting time: 129\n",
      "Adjusting time: 130\n",
      "Adjusting time: 131\n",
      "Adjusting time: 132\n",
      "Adjusting time: 133\n",
      "Adjusting time: 134\n",
      "Adjusting time: 135\n",
      "Adjusting time: 136\n",
      "Adjusting time: 137\n",
      "Adjusting time: 138\n",
      "Adjusting time: 139\n",
      "Adjusting time: 140\n",
      "Adjusting time: 141\n",
      "Adjusting time: 142\n",
      "Adjusting time: 143\n",
      "Adjusting time: 144\n",
      "Adjusting time: 145\n",
      "Adjusting time: 146\n",
      "Adjusting time: 147\n",
      "Adjusting time: 148\n",
      "Adjusting time: 149\n",
      "Adjusting time: 150\n",
      "Adjusting time: 151\n",
      "Adjusting time: 152\n",
      "Adjusting time: 153\n",
      "Adjusting time: 154\n",
      "Adjusting time: 155\n",
      "Adjusting time: 156\n",
      "Adjusting time: 157\n",
      "Adjusting time: 158\n",
      "Adjusting time: 159\n",
      "Adjusting time: 160\n",
      "Adjusting time: 161\n",
      "Adjusting time: 162\n",
      "Adjusting time: 163\n",
      "Adjusting time: 164\n",
      "Adjusting time: 165\n",
      "Adjusting time: 166\n",
      "Adjusting time: 167\n",
      "Adjusting time: 168\n",
      "Adjusting time: 169\n",
      "Adjusting time: 170\n",
      "Adjusting time: 171\n",
      "Adjusting time: 172\n",
      "Adjusting time: 173\n",
      "Adjusting time: 174\n",
      "Adjusting time: 175\n",
      "Adjusting time: 176\n",
      "Adjusting time: 177\n",
      "Adjusting time: 178\n",
      "Adjusting time: 179\n",
      "Adjusting time: 180\n",
      "Adjusting time: 181\n",
      "Adjusting time: 182\n",
      "Adjusting time: 183\n",
      "Adjusting time: 184\n",
      "Adjusting time: 185\n",
      "Adjusting time: 186\n",
      "Adjusting time: 187\n",
      "Adjusting time: 188\n",
      "Adjusting time: 189\n",
      "Adjusting time: 190\n",
      "Adjusting time: 191\n",
      "Adjusting time: 192\n",
      "Adjusting time: 193\n",
      "Adjusting time: 194\n",
      "Adjusting time: 195\n",
      "Adjusting time: 196\n",
      "Adjusting time: 197\n",
      "Adjusting time: 198\n",
      "Adjusting time: 199\n",
      "Adjusting time: 200\n",
      "Adjusting time: 201\n",
      "Adjusting time: 202\n",
      "Adjusting time: 203\n",
      "Adjusting time: 204\n",
      "Adjusting time: 205\n",
      "Adjusting time: 206\n",
      "Adjusting time: 207\n",
      "Adjusting time: 208\n",
      "Adjusting time: 209\n",
      "Adjusting time: 210\n",
      "Adjusting time: 211\n",
      "Adjusting time: 212\n",
      "Adjusting time: 213\n",
      "Adjusting time: 214\n",
      "Adjusting time: 215\n",
      "Adjusting time: 216\n",
      "Adjusting time: 217\n",
      "Adjusting time: 218\n",
      "Adjusting time: 219\n",
      "Adjusting time: 220\n",
      "Adjusting time: 221\n",
      "Adjusting time: 222\n",
      "Adjusting time: 223\n",
      "Adjusting time: 224\n",
      "Adjusting time: 225\n",
      "Adjusting time: 226\n",
      "Adjusting time: 227\n",
      "Adjusting time: 228\n",
      "Adjusting time: 229\n",
      "Adjusting time: 230\n",
      "Adjusting time: 231\n",
      "Adjusting time: 232\n",
      "Adjusting time: 233\n",
      "Adjusting time: 234\n",
      "Adjusting time: 235\n",
      "Adjusting time: 236\n",
      "Adjusting time: 237\n",
      "Adjusting time: 238\n",
      "Adjusting time: 239\n",
      "Adjusting time: 240\n",
      "Adjusting time: 241\n",
      "Adjusting time: 242\n",
      "Adjusting time: 243\n",
      "Adjusting time: 244\n",
      "Adjusting time: 245\n",
      "Adjusting time: 246\n",
      "Adjusting time: 247\n"
     ]
    }
   ],
   "source": [
    "from workbench import adjust_t2m_grid\n",
    "\n",
    "t2m_adjusted = adjust_t2m_grid(\"../datasets/ammoniaca.nc\", \"../datasets/temperature.nc\")"
   ]
  },
  {
   "cell_type": "code",
   "execution_count": 4,
   "metadata": {},
   "outputs": [
    {
     "output_type": "execute_result",
     "data": {
      "text/plain": [
       "<xarray.DataArray (time: 248, lat: 532, lon: 532)>\n",
       "array([[[         nan,          nan,          nan, ...,          nan,\n",
       "                  nan,          nan],\n",
       "        [         nan, 279.11672974, 279.01501465, ...,          nan,\n",
       "                  nan,          nan],\n",
       "        [         nan, 279.3678894 , 279.28674316, ...,          nan,\n",
       "                  nan,          nan],\n",
       "        ...,\n",
       "        [         nan,          nan,          nan, ...,          nan,\n",
       "                  nan,          nan],\n",
       "        [         nan,          nan,          nan, ...,          nan,\n",
       "                  nan,          nan],\n",
       "        [         nan,          nan,          nan, ...,          nan,\n",
       "                  nan,          nan]],\n",
       "\n",
       "       [[         nan,          nan,          nan, ...,          nan,\n",
       "                  nan,          nan],\n",
       "        [         nan, 285.4703064 , 285.38739014, ...,          nan,\n",
       "                  nan,          nan],\n",
       "        [         nan, 285.4559021 , 285.46453857, ...,          nan,\n",
       "                  nan,          nan],\n",
       "...\n",
       "        [         nan,          nan,          nan, ...,          nan,\n",
       "                  nan,          nan],\n",
       "        [         nan,          nan,          nan, ...,          nan,\n",
       "                  nan,          nan],\n",
       "        [         nan,          nan,          nan, ...,          nan,\n",
       "                  nan,          nan]],\n",
       "\n",
       "       [[         nan,          nan,          nan, ...,          nan,\n",
       "                  nan,          nan],\n",
       "        [         nan, 302.53143311, 302.58175659, ...,          nan,\n",
       "                  nan,          nan],\n",
       "        [         nan, 303.07479858, 303.22265625, ...,          nan,\n",
       "                  nan,          nan],\n",
       "        ...,\n",
       "        [         nan,          nan,          nan, ...,          nan,\n",
       "                  nan,          nan],\n",
       "        [         nan,          nan,          nan, ...,          nan,\n",
       "                  nan,          nan],\n",
       "        [         nan,          nan,          nan, ...,          nan,\n",
       "                  nan,          nan]]])\n",
       "Coordinates:\n",
       "  * time     (time) datetime64[ns] 2000-01-15T12:00:00 ... 2020-08-15T12:00:00\n",
       "  * lat      (lat) float64 44.75 44.75 44.75 44.75 ... 46.55 46.55 46.55 46.55\n",
       "  * lon      (lon) float64 8.55 8.65 8.75 8.85 8.95 ... 10.95 11.05 11.15 11.25"
      ],
      "text/html": "<div><svg style=\"position: absolute; width: 0; height: 0; overflow: hidden\">\n<defs>\n<symbol id=\"icon-database\" viewBox=\"0 0 32 32\">\n<path d=\"M16 0c-8.837 0-16 2.239-16 5v4c0 2.761 7.163 5 16 5s16-2.239 16-5v-4c0-2.761-7.163-5-16-5z\"></path>\n<path d=\"M16 17c-8.837 0-16-2.239-16-5v6c0 2.761 7.163 5 16 5s16-2.239 16-5v-6c0 2.761-7.163 5-16 5z\"></path>\n<path d=\"M16 26c-8.837 0-16-2.239-16-5v6c0 2.761 7.163 5 16 5s16-2.239 16-5v-6c0 2.761-7.163 5-16 5z\"></path>\n</symbol>\n<symbol id=\"icon-file-text2\" viewBox=\"0 0 32 32\">\n<path d=\"M28.681 7.159c-0.694-0.947-1.662-2.053-2.724-3.116s-2.169-2.030-3.116-2.724c-1.612-1.182-2.393-1.319-2.841-1.319h-15.5c-1.378 0-2.5 1.121-2.5 2.5v27c0 1.378 1.122 2.5 2.5 2.5h23c1.378 0 2.5-1.122 2.5-2.5v-19.5c0-0.448-0.137-1.23-1.319-2.841zM24.543 5.457c0.959 0.959 1.712 1.825 2.268 2.543h-4.811v-4.811c0.718 0.556 1.584 1.309 2.543 2.268zM28 29.5c0 0.271-0.229 0.5-0.5 0.5h-23c-0.271 0-0.5-0.229-0.5-0.5v-27c0-0.271 0.229-0.5 0.5-0.5 0 0 15.499-0 15.5 0v7c0 0.552 0.448 1 1 1h7v19.5z\"></path>\n<path d=\"M23 26h-14c-0.552 0-1-0.448-1-1s0.448-1 1-1h14c0.552 0 1 0.448 1 1s-0.448 1-1 1z\"></path>\n<path d=\"M23 22h-14c-0.552 0-1-0.448-1-1s0.448-1 1-1h14c0.552 0 1 0.448 1 1s-0.448 1-1 1z\"></path>\n<path d=\"M23 18h-14c-0.552 0-1-0.448-1-1s0.448-1 1-1h14c0.552 0 1 0.448 1 1s-0.448 1-1 1z\"></path>\n</symbol>\n</defs>\n</svg>\n<style>/* CSS stylesheet for displaying xarray objects in jupyterlab.\n *\n */\n\n:root {\n  --xr-font-color0: var(--jp-content-font-color0, rgba(0, 0, 0, 1));\n  --xr-font-color2: var(--jp-content-font-color2, rgba(0, 0, 0, 0.54));\n  --xr-font-color3: var(--jp-content-font-color3, rgba(0, 0, 0, 0.38));\n  --xr-border-color: var(--jp-border-color2, #e0e0e0);\n  --xr-disabled-color: var(--jp-layout-color3, #bdbdbd);\n  --xr-background-color: var(--jp-layout-color0, white);\n  --xr-background-color-row-even: var(--jp-layout-color1, white);\n  --xr-background-color-row-odd: var(--jp-layout-color2, #eeeeee);\n}\n\nhtml[theme=dark],\nbody.vscode-dark {\n  --xr-font-color0: rgba(255, 255, 255, 1);\n  --xr-font-color2: rgba(255, 255, 255, 0.54);\n  --xr-font-color3: rgba(255, 255, 255, 0.38);\n  --xr-border-color: #1F1F1F;\n  --xr-disabled-color: #515151;\n  --xr-background-color: #111111;\n  --xr-background-color-row-even: #111111;\n  --xr-background-color-row-odd: #313131;\n}\n\n.xr-wrap {\n  display: block;\n  min-width: 300px;\n  max-width: 700px;\n}\n\n.xr-text-repr-fallback {\n  /* fallback to plain text repr when CSS is not injected (untrusted notebook) */\n  display: none;\n}\n\n.xr-header {\n  padding-top: 6px;\n  padding-bottom: 6px;\n  margin-bottom: 4px;\n  border-bottom: solid 1px var(--xr-border-color);\n}\n\n.xr-header > div,\n.xr-header > ul {\n  display: inline;\n  margin-top: 0;\n  margin-bottom: 0;\n}\n\n.xr-obj-type,\n.xr-array-name {\n  margin-left: 2px;\n  margin-right: 10px;\n}\n\n.xr-obj-type {\n  color: var(--xr-font-color2);\n}\n\n.xr-sections {\n  padding-left: 0 !important;\n  display: grid;\n  grid-template-columns: 150px auto auto 1fr 20px 20px;\n}\n\n.xr-section-item {\n  display: contents;\n}\n\n.xr-section-item input {\n  display: none;\n}\n\n.xr-section-item input + label {\n  color: var(--xr-disabled-color);\n}\n\n.xr-section-item input:enabled + label {\n  cursor: pointer;\n  color: var(--xr-font-color2);\n}\n\n.xr-section-item input:enabled + label:hover {\n  color: var(--xr-font-color0);\n}\n\n.xr-section-summary {\n  grid-column: 1;\n  color: var(--xr-font-color2);\n  font-weight: 500;\n}\n\n.xr-section-summary > span {\n  display: inline-block;\n  padding-left: 0.5em;\n}\n\n.xr-section-summary-in:disabled + label {\n  color: var(--xr-font-color2);\n}\n\n.xr-section-summary-in + label:before {\n  display: inline-block;\n  content: '►';\n  font-size: 11px;\n  width: 15px;\n  text-align: center;\n}\n\n.xr-section-summary-in:disabled + label:before {\n  color: var(--xr-disabled-color);\n}\n\n.xr-section-summary-in:checked + label:before {\n  content: '▼';\n}\n\n.xr-section-summary-in:checked + label > span {\n  display: none;\n}\n\n.xr-section-summary,\n.xr-section-inline-details {\n  padding-top: 4px;\n  padding-bottom: 4px;\n}\n\n.xr-section-inline-details {\n  grid-column: 2 / -1;\n}\n\n.xr-section-details {\n  display: none;\n  grid-column: 1 / -1;\n  margin-bottom: 5px;\n}\n\n.xr-section-summary-in:checked ~ .xr-section-details {\n  display: contents;\n}\n\n.xr-array-wrap {\n  grid-column: 1 / -1;\n  display: grid;\n  grid-template-columns: 20px auto;\n}\n\n.xr-array-wrap > label {\n  grid-column: 1;\n  vertical-align: top;\n}\n\n.xr-preview {\n  color: var(--xr-font-color3);\n}\n\n.xr-array-preview,\n.xr-array-data {\n  padding: 0 5px !important;\n  grid-column: 2;\n}\n\n.xr-array-data,\n.xr-array-in:checked ~ .xr-array-preview {\n  display: none;\n}\n\n.xr-array-in:checked ~ .xr-array-data,\n.xr-array-preview {\n  display: inline-block;\n}\n\n.xr-dim-list {\n  display: inline-block !important;\n  list-style: none;\n  padding: 0 !important;\n  margin: 0;\n}\n\n.xr-dim-list li {\n  display: inline-block;\n  padding: 0;\n  margin: 0;\n}\n\n.xr-dim-list:before {\n  content: '(';\n}\n\n.xr-dim-list:after {\n  content: ')';\n}\n\n.xr-dim-list li:not(:last-child):after {\n  content: ',';\n  padding-right: 5px;\n}\n\n.xr-has-index {\n  font-weight: bold;\n}\n\n.xr-var-list,\n.xr-var-item {\n  display: contents;\n}\n\n.xr-var-item > div,\n.xr-var-item label,\n.xr-var-item > .xr-var-name span {\n  background-color: var(--xr-background-color-row-even);\n  margin-bottom: 0;\n}\n\n.xr-var-item > .xr-var-name:hover span {\n  padding-right: 5px;\n}\n\n.xr-var-list > li:nth-child(odd) > div,\n.xr-var-list > li:nth-child(odd) > label,\n.xr-var-list > li:nth-child(odd) > .xr-var-name span {\n  background-color: var(--xr-background-color-row-odd);\n}\n\n.xr-var-name {\n  grid-column: 1;\n}\n\n.xr-var-dims {\n  grid-column: 2;\n}\n\n.xr-var-dtype {\n  grid-column: 3;\n  text-align: right;\n  color: var(--xr-font-color2);\n}\n\n.xr-var-preview {\n  grid-column: 4;\n}\n\n.xr-var-name,\n.xr-var-dims,\n.xr-var-dtype,\n.xr-preview,\n.xr-attrs dt {\n  white-space: nowrap;\n  overflow: hidden;\n  text-overflow: ellipsis;\n  padding-right: 10px;\n}\n\n.xr-var-name:hover,\n.xr-var-dims:hover,\n.xr-var-dtype:hover,\n.xr-attrs dt:hover {\n  overflow: visible;\n  width: auto;\n  z-index: 1;\n}\n\n.xr-var-attrs,\n.xr-var-data {\n  display: none;\n  background-color: var(--xr-background-color) !important;\n  padding-bottom: 5px !important;\n}\n\n.xr-var-attrs-in:checked ~ .xr-var-attrs,\n.xr-var-data-in:checked ~ .xr-var-data {\n  display: block;\n}\n\n.xr-var-data > table {\n  float: right;\n}\n\n.xr-var-name span,\n.xr-var-data,\n.xr-attrs {\n  padding-left: 25px !important;\n}\n\n.xr-attrs,\n.xr-var-attrs,\n.xr-var-data {\n  grid-column: 1 / -1;\n}\n\ndl.xr-attrs {\n  padding: 0;\n  margin: 0;\n  display: grid;\n  grid-template-columns: 125px auto;\n}\n\n.xr-attrs dt, dd {\n  padding: 0;\n  margin: 0;\n  float: left;\n  padding-right: 10px;\n  width: auto;\n}\n\n.xr-attrs dt {\n  font-weight: normal;\n  grid-column: 1;\n}\n\n.xr-attrs dt:hover span {\n  display: inline-block;\n  background: var(--xr-background-color);\n  padding-right: 10px;\n}\n\n.xr-attrs dd {\n  grid-column: 2;\n  white-space: pre-wrap;\n  word-break: break-all;\n}\n\n.xr-icon-database,\n.xr-icon-file-text2 {\n  display: inline-block;\n  vertical-align: middle;\n  width: 1em;\n  height: 1.5em !important;\n  stroke-width: 0;\n  stroke: currentColor;\n  fill: currentColor;\n}\n</style><pre class='xr-text-repr-fallback'>&lt;xarray.DataArray (time: 248, lat: 532, lon: 532)&gt;\narray([[[         nan,          nan,          nan, ...,          nan,\n                  nan,          nan],\n        [         nan, 279.11672974, 279.01501465, ...,          nan,\n                  nan,          nan],\n        [         nan, 279.3678894 , 279.28674316, ...,          nan,\n                  nan,          nan],\n        ...,\n        [         nan,          nan,          nan, ...,          nan,\n                  nan,          nan],\n        [         nan,          nan,          nan, ...,          nan,\n                  nan,          nan],\n        [         nan,          nan,          nan, ...,          nan,\n                  nan,          nan]],\n\n       [[         nan,          nan,          nan, ...,          nan,\n                  nan,          nan],\n        [         nan, 285.4703064 , 285.38739014, ...,          nan,\n                  nan,          nan],\n        [         nan, 285.4559021 , 285.46453857, ...,          nan,\n                  nan,          nan],\n...\n        [         nan,          nan,          nan, ...,          nan,\n                  nan,          nan],\n        [         nan,          nan,          nan, ...,          nan,\n                  nan,          nan],\n        [         nan,          nan,          nan, ...,          nan,\n                  nan,          nan]],\n\n       [[         nan,          nan,          nan, ...,          nan,\n                  nan,          nan],\n        [         nan, 302.53143311, 302.58175659, ...,          nan,\n                  nan,          nan],\n        [         nan, 303.07479858, 303.22265625, ...,          nan,\n                  nan,          nan],\n        ...,\n        [         nan,          nan,          nan, ...,          nan,\n                  nan,          nan],\n        [         nan,          nan,          nan, ...,          nan,\n                  nan,          nan],\n        [         nan,          nan,          nan, ...,          nan,\n                  nan,          nan]]])\nCoordinates:\n  * time     (time) datetime64[ns] 2000-01-15T12:00:00 ... 2020-08-15T12:00:00\n  * lat      (lat) float64 44.75 44.75 44.75 44.75 ... 46.55 46.55 46.55 46.55\n  * lon      (lon) float64 8.55 8.65 8.75 8.85 8.95 ... 10.95 11.05 11.15 11.25</pre><div class='xr-wrap' hidden><div class='xr-header'><div class='xr-obj-type'>xarray.DataArray</div><div class='xr-array-name'></div><ul class='xr-dim-list'><li><span class='xr-has-index'>time</span>: 248</li><li><span class='xr-has-index'>lat</span>: 532</li><li><span class='xr-has-index'>lon</span>: 532</li></ul></div><ul class='xr-sections'><li class='xr-section-item'><div class='xr-array-wrap'><input id='section-54c83d09-1dca-4b90-8f60-17ab4ea166be' class='xr-array-in' type='checkbox' checked><label for='section-54c83d09-1dca-4b90-8f60-17ab4ea166be' title='Show/hide data repr'><svg class='icon xr-icon-database'><use xlink:href='#icon-database'></use></svg></label><div class='xr-array-preview xr-preview'><span>nan nan nan nan nan nan nan nan ... nan nan nan nan nan nan nan nan</span></div><div class='xr-array-data'><pre>array([[[         nan,          nan,          nan, ...,          nan,\n                  nan,          nan],\n        [         nan, 279.11672974, 279.01501465, ...,          nan,\n                  nan,          nan],\n        [         nan, 279.3678894 , 279.28674316, ...,          nan,\n                  nan,          nan],\n        ...,\n        [         nan,          nan,          nan, ...,          nan,\n                  nan,          nan],\n        [         nan,          nan,          nan, ...,          nan,\n                  nan,          nan],\n        [         nan,          nan,          nan, ...,          nan,\n                  nan,          nan]],\n\n       [[         nan,          nan,          nan, ...,          nan,\n                  nan,          nan],\n        [         nan, 285.4703064 , 285.38739014, ...,          nan,\n                  nan,          nan],\n        [         nan, 285.4559021 , 285.46453857, ...,          nan,\n                  nan,          nan],\n...\n        [         nan,          nan,          nan, ...,          nan,\n                  nan,          nan],\n        [         nan,          nan,          nan, ...,          nan,\n                  nan,          nan],\n        [         nan,          nan,          nan, ...,          nan,\n                  nan,          nan]],\n\n       [[         nan,          nan,          nan, ...,          nan,\n                  nan,          nan],\n        [         nan, 302.53143311, 302.58175659, ...,          nan,\n                  nan,          nan],\n        [         nan, 303.07479858, 303.22265625, ...,          nan,\n                  nan,          nan],\n        ...,\n        [         nan,          nan,          nan, ...,          nan,\n                  nan,          nan],\n        [         nan,          nan,          nan, ...,          nan,\n                  nan,          nan],\n        [         nan,          nan,          nan, ...,          nan,\n                  nan,          nan]]])</pre></div></div></li><li class='xr-section-item'><input id='section-47b32641-cf57-42c1-b729-c57dd06fd259' class='xr-section-summary-in' type='checkbox'  checked><label for='section-47b32641-cf57-42c1-b729-c57dd06fd259' class='xr-section-summary' >Coordinates: <span>(3)</span></label><div class='xr-section-inline-details'></div><div class='xr-section-details'><ul class='xr-var-list'><li class='xr-var-item'><div class='xr-var-name'><span class='xr-has-index'>time</span></div><div class='xr-var-dims'>(time)</div><div class='xr-var-dtype'>datetime64[ns]</div><div class='xr-var-preview xr-preview'>2000-01-15T12:00:00 ... 2020-08-...</div><input id='attrs-beab8bab-d309-4c12-9993-c22913aab706' class='xr-var-attrs-in' type='checkbox' disabled><label for='attrs-beab8bab-d309-4c12-9993-c22913aab706' title='Show/Hide attributes'><svg class='icon xr-icon-file-text2'><use xlink:href='#icon-file-text2'></use></svg></label><input id='data-7f3bccf6-bbc1-4dab-95c3-c603dcdb744f' class='xr-var-data-in' type='checkbox'><label for='data-7f3bccf6-bbc1-4dab-95c3-c603dcdb744f' title='Show/Hide data repr'><svg class='icon xr-icon-database'><use xlink:href='#icon-database'></use></svg></label><div class='xr-var-attrs'><dl class='xr-attrs'></dl></div><div class='xr-var-data'><pre>array([&#x27;2000-01-15T12:00:00.000000000&#x27;, &#x27;2000-02-15T12:00:00.000000000&#x27;,\n       &#x27;2000-03-15T12:00:00.000000000&#x27;, ..., &#x27;2020-06-15T12:00:00.000000000&#x27;,\n       &#x27;2020-07-15T12:00:00.000000000&#x27;, &#x27;2020-08-15T12:00:00.000000000&#x27;],\n      dtype=&#x27;datetime64[ns]&#x27;)</pre></div></li><li class='xr-var-item'><div class='xr-var-name'><span class='xr-has-index'>lat</span></div><div class='xr-var-dims'>(lat)</div><div class='xr-var-dtype'>float64</div><div class='xr-var-preview xr-preview'>44.75 44.75 44.75 ... 46.55 46.55</div><input id='attrs-d055ee85-8bee-4b8c-af5c-a8c06000c9b2' class='xr-var-attrs-in' type='checkbox' disabled><label for='attrs-d055ee85-8bee-4b8c-af5c-a8c06000c9b2' title='Show/Hide attributes'><svg class='icon xr-icon-file-text2'><use xlink:href='#icon-file-text2'></use></svg></label><input id='data-8a6b3982-0052-4efb-be3a-1d0a6d838d30' class='xr-var-data-in' type='checkbox'><label for='data-8a6b3982-0052-4efb-be3a-1d0a6d838d30' title='Show/Hide data repr'><svg class='icon xr-icon-database'><use xlink:href='#icon-database'></use></svg></label><div class='xr-var-attrs'><dl class='xr-attrs'></dl></div><div class='xr-var-data'><pre>array([44.75, 44.75, 44.75, ..., 46.55, 46.55, 46.55])</pre></div></li><li class='xr-var-item'><div class='xr-var-name'><span class='xr-has-index'>lon</span></div><div class='xr-var-dims'>(lon)</div><div class='xr-var-dtype'>float64</div><div class='xr-var-preview xr-preview'>8.55 8.65 8.75 ... 11.15 11.25</div><input id='attrs-c29d1a57-7307-448c-9c19-738895f8171e' class='xr-var-attrs-in' type='checkbox' disabled><label for='attrs-c29d1a57-7307-448c-9c19-738895f8171e' title='Show/Hide attributes'><svg class='icon xr-icon-file-text2'><use xlink:href='#icon-file-text2'></use></svg></label><input id='data-5fd94f74-dd72-496f-b70d-37d3c38ebc37' class='xr-var-data-in' type='checkbox'><label for='data-5fd94f74-dd72-496f-b70d-37d3c38ebc37' title='Show/Hide data repr'><svg class='icon xr-icon-database'><use xlink:href='#icon-database'></use></svg></label><div class='xr-var-attrs'><dl class='xr-attrs'></dl></div><div class='xr-var-data'><pre>array([ 8.55,  8.65,  8.75, ..., 11.05, 11.15, 11.25])</pre></div></li></ul></div></li><li class='xr-section-item'><input id='section-fc7d92dc-69e7-496b-af05-9b841a6269c8' class='xr-section-summary-in' type='checkbox' disabled ><label for='section-fc7d92dc-69e7-496b-af05-9b841a6269c8' class='xr-section-summary'  title='Expand/collapse section'>Attributes: <span>(0)</span></label><div class='xr-section-inline-details'></div><div class='xr-section-details'><dl class='xr-attrs'></dl></div></li></ul></div></div>"
     },
     "metadata": {},
     "execution_count": 4
    }
   ],
   "source": [
    "t2m_adjusted"
   ]
  },
  {
   "cell_type": "code",
   "execution_count": 2,
   "metadata": {},
   "outputs": [
    {
     "output_type": "execute_result",
     "data": {
      "text/plain": [
       "[<matplotlib.lines.Line2D at 0x1dd0cca8d00>]"
      ]
     },
     "metadata": {},
     "execution_count": 2
    },
    {
     "output_type": "display_data",
     "data": {
      "text/plain": "<Figure size 432x288 with 1 Axes>",
      "image/png": "[encoded data removed]"
     },
     "metadata": {
      "needs_background": "light"
     }
    }
   ],
   "source": [
    "t2m_adjusted[:,5,18].plot()"
   ]
  },
  {
   "cell_type": "code",
   "execution_count": 12,
   "metadata": {},
   "outputs": [
    {
     "output_type": "execute_result",
     "data": {
      "text/plain": [
       "<AxesSubplot:>"
      ]
     },
     "metadata": {},
     "execution_count": 12
    },
    {
     "output_type": "display_data",
     "data": {
      "text/plain": "<Figure size 432x288 with 1 Axes>",
      "image/png": "[encoded data removed]"
     },
     "metadata": {
      "needs_background": "light"
     }
    }
   ],
   "source": [
    "import geopandas as gpd\n",
    "from shapely.geometry import Point\n",
    "\n",
    "from shapely import speedups\n",
    "speedups.disable()\n",
    "\n",
    "regione = gpd.read_file('../resources/regione/regione_2015.shp')\n",
    "\n",
    "regione.to_crs(epsg=4326, inplace=True)\n",
    "regione.plot()"
   ]
  },
  {
   "cell_type": "code",
   "execution_count": 14,
   "metadata": {},
   "outputs": [
    {
     "output_type": "error",
     "ename": "NameError",
     "evalue": "name 'ammoniaca' is not defined",
     "traceback": [
      "\u001b[1;31m---------------------------------------------------------------------------\u001b[0m",
      "\u001b[1;31mNameError\u001b[0m                                 Traceback (most recent call last)",
      "\u001b[1;32m<ipython-input-14-15999e8c129c>\u001b[0m in \u001b[0;36m<module>\u001b[1;34m\u001b[0m\n\u001b[0;32m      2\u001b[0m \u001b[0mlons\u001b[0m \u001b[1;33m=\u001b[0m \u001b[0mt2m_adjusted\u001b[0m\u001b[1;33m.\u001b[0m\u001b[0mlon\u001b[0m\u001b[1;33m\u001b[0m\u001b[1;33m\u001b[0m\u001b[0m\n\u001b[0;32m      3\u001b[0m \u001b[1;33m\u001b[0m\u001b[0m\n\u001b[1;32m----> 4\u001b[1;33m \u001b[0mammoniaca_lats\u001b[0m \u001b[1;33m=\u001b[0m \u001b[0mammoniaca\u001b[0m\u001b[1;33m.\u001b[0m\u001b[0mlat\u001b[0m\u001b[1;33m\u001b[0m\u001b[1;33m\u001b[0m\u001b[0m\n\u001b[0m\u001b[0;32m      5\u001b[0m \u001b[0mammoniaca_lons\u001b[0m \u001b[1;33m=\u001b[0m \u001b[0mammoniaca\u001b[0m\u001b[1;33m.\u001b[0m\u001b[0mlon\u001b[0m\u001b[1;33m\u001b[0m\u001b[1;33m\u001b[0m\u001b[0m\n\u001b[0;32m      6\u001b[0m \u001b[1;33m\u001b[0m\u001b[0m\n",
      "\u001b[1;31mNameError\u001b[0m: name 'ammoniaca' is not defined"
     ]
    }
   ],
   "source": [
    "lats = t2m_adjusted.lat\n",
    "lons = t2m_adjusted.lon\n",
    "\n",
    "ammoniaca_lats = ammoniaca.lat\n",
    "ammoniaca_lons = ammoniaca.lon\n",
    "\n",
    "coords = [(lat, lon) for lat in lats.to_series() for lon in lons.to_series().tolist()]\n",
    "ammoniaca_coords = [(lat, lon) for lat in ammoniaca_lats.to_series() for lon in ammoniaca_lons.to_series().tolist()]\n",
    "\n",
    "lats = [coord[0] for coord in coords]\n",
    "lons = [coord[1] for coord in coords]\n",
    "\n",
    "ammoniaca_lats = [coord[0] for coord in ammoniaca_coords]\n",
    "ammoniaca_lons = [coord[1] for coord in ammoniaca_coords]"
   ]
  },
  {
   "cell_type": "code",
   "execution_count": 13,
   "metadata": {},
   "outputs": [
    {
     "output_type": "error",
     "ename": "TypeError",
     "evalue": "type DataArray doesn't define __round__ method",
     "traceback": [
      "\u001b[1;31m---------------------------------------------------------------------------\u001b[0m",
      "\u001b[1;31mTypeError\u001b[0m                                 Traceback (most recent call last)",
      "\u001b[1;32m<ipython-input-13-0ede3820d13f>\u001b[0m in \u001b[0;36m<module>\u001b[1;34m\u001b[0m\n\u001b[0;32m      5\u001b[0m \u001b[0mlons\u001b[0m \u001b[1;33m=\u001b[0m \u001b[0mt2m_adjusted\u001b[0m\u001b[1;33m.\u001b[0m\u001b[0mlon\u001b[0m\u001b[1;33m\u001b[0m\u001b[1;33m\u001b[0m\u001b[0m\n\u001b[0;32m      6\u001b[0m \u001b[1;33m\u001b[0m\u001b[0m\n\u001b[1;32m----> 7\u001b[1;33m \u001b[0mgrid\u001b[0m \u001b[1;33m=\u001b[0m \u001b[1;33m[\u001b[0m \u001b[1;33m(\u001b[0m\u001b[0mround\u001b[0m\u001b[1;33m(\u001b[0m\u001b[0mlat\u001b[0m\u001b[1;33m,\u001b[0m \u001b[1;36m2\u001b[0m\u001b[1;33m)\u001b[0m\u001b[1;33m,\u001b[0m \u001b[0mround\u001b[0m\u001b[1;33m(\u001b[0m\u001b[0mlon\u001b[0m\u001b[1;33m,\u001b[0m \u001b[1;36m2\u001b[0m\u001b[1;33m)\u001b[0m\u001b[1;33m)\u001b[0m \u001b[1;32mfor\u001b[0m \u001b[0mlat\u001b[0m\u001b[1;33m,\u001b[0m \u001b[0mlon\u001b[0m \u001b[1;32min\u001b[0m \u001b[0mzip\u001b[0m\u001b[1;33m(\u001b[0m\u001b[0mlats\u001b[0m\u001b[1;33m,\u001b[0m \u001b[0mlons\u001b[0m\u001b[1;33m)\u001b[0m \u001b[1;32mif\u001b[0m \u001b[0mregione\u001b[0m\u001b[1;33m.\u001b[0m\u001b[0mgeometry\u001b[0m\u001b[1;33m.\u001b[0m\u001b[0mcontains\u001b[0m\u001b[1;33m(\u001b[0m\u001b[0mPoint\u001b[0m\u001b[1;33m(\u001b[0m\u001b[0mlon\u001b[0m\u001b[1;33m,\u001b[0m \u001b[0mlat\u001b[0m\u001b[1;33m)\u001b[0m\u001b[1;33m)\u001b[0m\u001b[1;33m.\u001b[0m\u001b[0mbool\u001b[0m\u001b[1;33m(\u001b[0m\u001b[1;33m)\u001b[0m\u001b[1;33m]\u001b[0m\u001b[1;33m\u001b[0m\u001b[1;33m\u001b[0m\u001b[0m\n\u001b[0m\u001b[0;32m      8\u001b[0m \u001b[1;33m\u001b[0m\u001b[0m\n\u001b[0;32m      9\u001b[0m \u001b[0mlats\u001b[0m \u001b[1;33m=\u001b[0m \u001b[1;33m[\u001b[0m\u001b[0mcoord\u001b[0m\u001b[1;33m[\u001b[0m\u001b[1;36m0\u001b[0m\u001b[1;33m]\u001b[0m \u001b[1;32mfor\u001b[0m \u001b[0mcoord\u001b[0m \u001b[1;32min\u001b[0m \u001b[0mgrid\u001b[0m\u001b[1;33m]\u001b[0m\u001b[1;33m\u001b[0m\u001b[1;33m\u001b[0m\u001b[0m\n",
      "\u001b[1;32m<ipython-input-13-0ede3820d13f>\u001b[0m in \u001b[0;36m<listcomp>\u001b[1;34m(.0)\u001b[0m\n\u001b[0;32m      5\u001b[0m \u001b[0mlons\u001b[0m \u001b[1;33m=\u001b[0m \u001b[0mt2m_adjusted\u001b[0m\u001b[1;33m.\u001b[0m\u001b[0mlon\u001b[0m\u001b[1;33m\u001b[0m\u001b[1;33m\u001b[0m\u001b[0m\n\u001b[0;32m      6\u001b[0m \u001b[1;33m\u001b[0m\u001b[0m\n\u001b[1;32m----> 7\u001b[1;33m \u001b[0mgrid\u001b[0m \u001b[1;33m=\u001b[0m \u001b[1;33m[\u001b[0m \u001b[1;33m(\u001b[0m\u001b[0mround\u001b[0m\u001b[1;33m(\u001b[0m\u001b[0mlat\u001b[0m\u001b[1;33m,\u001b[0m \u001b[1;36m2\u001b[0m\u001b[1;33m)\u001b[0m\u001b[1;33m,\u001b[0m \u001b[0mround\u001b[0m\u001b[1;33m(\u001b[0m\u001b[0mlon\u001b[0m\u001b[1;33m,\u001b[0m \u001b[1;36m2\u001b[0m\u001b[1;33m)\u001b[0m\u001b[1;33m)\u001b[0m \u001b[1;32mfor\u001b[0m \u001b[0mlat\u001b[0m\u001b[1;33m,\u001b[0m \u001b[0mlon\u001b[0m \u001b[1;32min\u001b[0m \u001b[0mzip\u001b[0m\u001b[1;33m(\u001b[0m\u001b[0mlats\u001b[0m\u001b[1;33m,\u001b[0m \u001b[0mlons\u001b[0m\u001b[1;33m)\u001b[0m \u001b[1;32mif\u001b[0m \u001b[0mregione\u001b[0m\u001b[1;33m.\u001b[0m\u001b[0mgeometry\u001b[0m\u001b[1;33m.\u001b[0m\u001b[0mcontains\u001b[0m\u001b[1;33m(\u001b[0m\u001b[0mPoint\u001b[0m\u001b[1;33m(\u001b[0m\u001b[0mlon\u001b[0m\u001b[1;33m,\u001b[0m \u001b[0mlat\u001b[0m\u001b[1;33m)\u001b[0m\u001b[1;33m)\u001b[0m\u001b[1;33m.\u001b[0m\u001b[0mbool\u001b[0m\u001b[1;33m(\u001b[0m\u001b[1;33m)\u001b[0m\u001b[1;33m]\u001b[0m\u001b[1;33m\u001b[0m\u001b[1;33m\u001b[0m\u001b[0m\n\u001b[0m\u001b[0;32m      8\u001b[0m \u001b[1;33m\u001b[0m\u001b[0m\n\u001b[0;32m      9\u001b[0m \u001b[0mlats\u001b[0m \u001b[1;33m=\u001b[0m \u001b[1;33m[\u001b[0m\u001b[0mcoord\u001b[0m\u001b[1;33m[\u001b[0m\u001b[1;36m0\u001b[0m\u001b[1;33m]\u001b[0m \u001b[1;32mfor\u001b[0m \u001b[0mcoord\u001b[0m \u001b[1;32min\u001b[0m \u001b[0mgrid\u001b[0m\u001b[1;33m]\u001b[0m\u001b[1;33m\u001b[0m\u001b[1;33m\u001b[0m\u001b[0m\n",
      "\u001b[1;31mTypeError\u001b[0m: type DataArray doesn't define __round__ method"
     ]
    }
   ],
   "source": [
    "\n",
    "plt.scatter(lons, lats, c='r')\n",
    "plt.scatter(ammoniaca_lons, ammoniaca_lats, c='y')\n",
    "\n",
    "grid = [ (round(lat, 2), round(lon, 2)) for lat, lon in zip(lats, lons) if regione.geometry.contains(Point(lon, lat)).bool()]\n",
    "\n",
    "lats = [coord[0] for coord in grid]\n",
    "lons = [coord[1] for coord in grid]\n",
    "\n",
    "regione.plot()\n",
    "plt.scatter(lons, lats, c='r')\n",
    "\n",
    "plt.show()"
   ]
  },
  {
   "cell_type": "code",
   "execution_count": 8,
   "metadata": {},
   "outputs": [
    {
     "output_type": "error",
     "ename": "NameError",
     "evalue": "name 'grid' is not defined",
     "traceback": [
      "\u001b[1;31m---------------------------------------------------------------------------\u001b[0m",
      "\u001b[1;31mNameError\u001b[0m                                 Traceback (most recent call last)",
      "\u001b[1;32m<ipython-input-8-79a85eeaab73>\u001b[0m in \u001b[0;36m<module>\u001b[1;34m\u001b[0m\n\u001b[0;32m     10\u001b[0m \u001b[1;32mfor\u001b[0m \u001b[0mlat_idx\u001b[0m\u001b[1;33m,\u001b[0m \u001b[0mlat\u001b[0m \u001b[1;32min\u001b[0m \u001b[0menumerate\u001b[0m\u001b[1;33m(\u001b[0m\u001b[0mt2m_lats\u001b[0m\u001b[1;33m)\u001b[0m\u001b[1;33m:\u001b[0m\u001b[1;33m\u001b[0m\u001b[1;33m\u001b[0m\u001b[0m\n\u001b[0;32m     11\u001b[0m     \u001b[1;32mfor\u001b[0m \u001b[0mlon_idx\u001b[0m\u001b[1;33m,\u001b[0m \u001b[0mlon\u001b[0m \u001b[1;32min\u001b[0m \u001b[0menumerate\u001b[0m\u001b[1;33m(\u001b[0m\u001b[0mt2m_lons\u001b[0m\u001b[1;33m)\u001b[0m\u001b[1;33m:\u001b[0m\u001b[1;33m\u001b[0m\u001b[1;33m\u001b[0m\u001b[0m\n\u001b[1;32m---> 12\u001b[1;33m         \u001b[1;32mif\u001b[0m \u001b[1;33m(\u001b[0m\u001b[0mlat\u001b[0m\u001b[1;33m,\u001b[0m \u001b[0mlon\u001b[0m\u001b[1;33m)\u001b[0m \u001b[1;32min\u001b[0m \u001b[0mgrid\u001b[0m\u001b[1;33m:\u001b[0m\u001b[1;33m\u001b[0m\u001b[1;33m\u001b[0m\u001b[0m\n\u001b[0m\u001b[0;32m     13\u001b[0m             \u001b[0mdata\u001b[0m\u001b[1;33m[\u001b[0m\u001b[0mlat_idx\u001b[0m\u001b[1;33m]\u001b[0m\u001b[1;33m[\u001b[0m\u001b[0mlon_idx\u001b[0m\u001b[1;33m]\u001b[0m \u001b[1;33m=\u001b[0m \u001b[0mnp\u001b[0m\u001b[1;33m.\u001b[0m\u001b[0mmean\u001b[0m\u001b[1;33m(\u001b[0m\u001b[0mt2m\u001b[0m\u001b[1;33m[\u001b[0m\u001b[1;33m:\u001b[0m\u001b[1;36m12\u001b[0m\u001b[1;33m,\u001b[0m \u001b[0mlat_idx\u001b[0m\u001b[1;33m,\u001b[0m \u001b[0mlon_idx\u001b[0m\u001b[1;33m]\u001b[0m\u001b[1;33m.\u001b[0m\u001b[0mto_series\u001b[0m\u001b[1;33m(\u001b[0m\u001b[1;33m)\u001b[0m\u001b[1;33m.\u001b[0m\u001b[0mtolist\u001b[0m\u001b[1;33m(\u001b[0m\u001b[1;33m)\u001b[0m\u001b[1;33m)\u001b[0m\u001b[1;33m\u001b[0m\u001b[1;33m\u001b[0m\u001b[0m\n\u001b[0;32m     14\u001b[0m \u001b[1;33m\u001b[0m\u001b[0m\n",
      "\u001b[1;31mNameError\u001b[0m: name 'grid' is not defined"
     ]
    }
   ],
   "source": [
    "t2m_lats = [round(lat, 2) for lat in t2m_adjusted.lat.to_series().tolist()]\n",
    "t2m_lons = [round(lon, 2) for lon in t2m_adjusted.lon.to_series().tolist()]\n",
    "\n",
    "data = np.zeros((len(t2m_lats), len(t2m_lons)))\n",
    "data.fill(np.nan)\n",
    "\n",
    "for lat_idx, lat in enumerate(t2m_lats):\n",
    "    for lon_idx, lon in enumerate(t2m_lons):\n",
    "        if (lat, lon) in grid:\n",
    "            data[lat_idx][lon_idx] = np.mean(t2m[:12, lat_idx, lon_idx].to_series().tolist())\n",
    "            \n",
    "mean_t2m = xr.DataArray(data, coords=[t2m_lats, t2m_lons], dims=['lat', 'lon'])\n",
    "mean_t2m.plot()"
   ]
  },
  {
   "cell_type": "code",
   "execution_count": 2,
   "metadata": {},
   "outputs": [
    {
     "output_type": "error",
     "ename": "ModuleNotFoundError",
     "evalue": "No module named 'workbench.py'; 'workbench' is not a package",
     "traceback": [
      "\u001b[1;31m---------------------------------------------------------------------------\u001b[0m",
      "\u001b[1;31mModuleNotFoundError\u001b[0m                       Traceback (most recent call last)",
      "\u001b[1;32m<ipython-input-2-f5554513f00f>\u001b[0m in \u001b[0;36m<module>\u001b[1;34m\u001b[0m\n\u001b[1;32m----> 1\u001b[1;33m \u001b[1;32mfrom\u001b[0m \u001b[0mworkbench\u001b[0m\u001b[1;33m.\u001b[0m\u001b[0mpy\u001b[0m \u001b[1;32mimport\u001b[0m \u001b[0madjust_t2m_grid\u001b[0m\u001b[1;33m\u001b[0m\u001b[1;33m\u001b[0m\u001b[0m\n\u001b[0m\u001b[0;32m      2\u001b[0m \u001b[0madjust_t2m_grid\u001b[0m\u001b[1;33m(\u001b[0m\u001b[1;34m\"../datasets/ammoniaca.nc\"\u001b[0m\u001b[1;33m,\u001b[0m \u001b[1;34m\"../datasets/temperature.nc\"\u001b[0m\u001b[1;33m)\u001b[0m\u001b[1;33m\u001b[0m\u001b[1;33m\u001b[0m\u001b[0m\n",
      "\u001b[1;31mModuleNotFoundError\u001b[0m: No module named 'workbench.py'; 'workbench' is not a package"
     ]
    }
   ],
   "source": [
    "from workbench import adjust_t2m_grid\n",
    "\n",
    "adjust_t2m_grid(\"../datasets/ammoniaca.nc\", \"../datasets/temperature.nc\")"
   ]
  },
  {
   "cell_type": "code",
   "execution_count": null,
   "metadata": {},
   "outputs": [],
   "source": []
  }
 ]
}