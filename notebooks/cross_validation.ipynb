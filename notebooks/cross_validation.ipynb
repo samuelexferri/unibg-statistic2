{
 "metadata": {
  "language_info": {
   "codemirror_mode": {
    "name": "ipython",
    "version": 3
   },
   "file_extension": ".py",
   "mimetype": "text/x-python",
   "name": "python",
   "nbconvert_exporter": "python",
   "pygments_lexer": "ipython3",
   "version": "3.8.6-final"
  },
  "orig_nbformat": 2,
  "kernelspec": {
   "name": "python3",
   "display_name": "Python 3",
   "language": "python"
  }
 },
 "nbformat": 4,
 "nbformat_minor": 2,
 "cells": [
  {
   "cell_type": "code",
   "execution_count": 8,
   "metadata": {},
   "outputs": [],
   "source": [
    "# Cross validation"
   ]
  },
  {
   "cell_type": "code",
   "execution_count": 5,
   "metadata": {},
   "outputs": [],
   "source": [
    "import sys\n",
    "sys.path.append('..')\n",
    "\n",
    "import xarray as xr\n",
    "import matplotlib.pyplot as plt\n",
    "import numpy as np\n",
    "import geopandas as gpd\n",
    "from utils import utils"
   ]
  },
  {
   "cell_type": "code",
   "execution_count": 7,
   "metadata": {},
   "outputs": [
    {
     "output_type": "execute_result",
     "data": {
      "text/plain": [
       "<xarray.DataArray 'agl' (time: 248, lat: 19, lon: 28)>\n",
       "array([[[           nan,            nan,            nan, ...,\n",
       "                    nan,            nan,            nan],\n",
       "        [           nan,            nan,            nan, ...,\n",
       "                    nan,            nan,            nan],\n",
       "        [           nan,            nan,            nan, ...,\n",
       "                    nan, 1.40527645e-05,            nan],\n",
       "        ...,\n",
       "        [           nan,            nan,            nan, ...,\n",
       "                    nan,            nan,            nan],\n",
       "        [           nan,            nan,            nan, ...,\n",
       "                    nan,            nan,            nan],\n",
       "        [           nan,            nan,            nan, ...,\n",
       "                    nan,            nan,            nan]],\n",
       "\n",
       "       [[           nan,            nan,            nan, ...,\n",
       "                    nan,            nan,            nan],\n",
       "        [           nan,            nan,            nan, ...,\n",
       "                    nan,            nan,            nan],\n",
       "        [           nan,            nan,            nan, ...,\n",
       "                    nan, 1.54474892e-05,            nan],\n",
       "...\n",
       "        [           nan,            nan,            nan, ...,\n",
       "                    nan,            nan,            nan],\n",
       "        [           nan,            nan,            nan, ...,\n",
       "                    nan,            nan,            nan],\n",
       "        [           nan,            nan,            nan, ...,\n",
       "                    nan,            nan,            nan]],\n",
       "\n",
       "       [[           nan,            nan,            nan, ...,\n",
       "                    nan,            nan,            nan],\n",
       "        [           nan,            nan,            nan, ...,\n",
       "                    nan,            nan,            nan],\n",
       "        [           nan,            nan,            nan, ...,\n",
       "                    nan, 3.44685031e-05,            nan],\n",
       "        ...,\n",
       "        [           nan,            nan,            nan, ...,\n",
       "                    nan,            nan,            nan],\n",
       "        [           nan,            nan,            nan, ...,\n",
       "                    nan,            nan,            nan],\n",
       "        [           nan,            nan,            nan, ...,\n",
       "                    nan,            nan,            nan]]])\n",
       "Coordinates:\n",
       "  * time     (time) datetime64[ns] 2000-01-15 2000-02-15 ... 2020-08-15\n",
       "  * lat      (lat) float64 44.75 44.85 44.95 45.05 ... 46.25 46.35 46.45 46.55\n",
       "  * lon      (lon) float64 8.55 8.65 8.75 8.85 8.95 ... 10.95 11.05 11.15 11.25"
      ],
      "text/html": "<div><svg style=\"position: absolute; width: 0; height: 0; overflow: hidden\">\n<defs>\n<symbol id=\"icon-database\" viewBox=\"0 0 32 32\">\n<path d=\"M16 0c-8.837 0-16 2.239-16 5v4c0 2.761 7.163 5 16 5s16-2.239 16-5v-4c0-2.761-7.163-5-16-5z\"></path>\n<path d=\"M16 17c-8.837 0-16-2.239-16-5v6c0 2.761 7.163 5 16 5s16-2.239 16-5v-6c0 2.761-7.163 5-16 5z\"></path>\n<path d=\"M16 26c-8.837 0-16-2.239-16-5v6c0 2.761 7.163 5 16 5s16-2.239 16-5v-6c0 2.761-7.163 5-16 5z\"></path>\n</symbol>\n<symbol id=\"icon-file-text2\" viewBox=\"0 0 32 32\">\n<path d=\"M28.681 7.159c-0.694-0.947-1.662-2.053-2.724-3.116s-2.169-2.030-3.116-2.724c-1.612-1.182-2.393-1.319-2.841-1.319h-15.5c-1.378 0-2.5 1.121-2.5 2.5v27c0 1.378 1.122 2.5 2.5 2.5h23c1.378 0 2.5-1.122 2.5-2.5v-19.5c0-0.448-0.137-1.23-1.319-2.841zM24.543 5.457c0.959 0.959 1.712 1.825 2.268 2.543h-4.811v-4.811c0.718 0.556 1.584 1.309 2.543 2.268zM28 29.5c0 0.271-0.229 0.5-0.5 0.5h-23c-0.271 0-0.5-0.229-0.5-0.5v-27c0-0.271 0.229-0.5 0.5-0.5 0 0 15.499-0 15.5 0v7c0 0.552 0.448 1 1 1h7v19.5z\"></path>\n<path d=\"M23 26h-14c-0.552 0-1-0.448-1-1s0.448-1 1-1h14c0.552 0 1 0.448 1 1s-0.448 1-1 1z\"></path>\n<path d=\"M23 22h-14c-0.552 0-1-0.448-1-1s0.448-1 1-1h14c0.552 0 1 0.448 1 1s-0.448 1-1 1z\"></path>\n<path d=\"M23 18h-14c-0.552 0-1-0.448-1-1s0.448-1 1-1h14c0.552 0 1 0.448 1 1s-0.448 1-1 1z\"></path>\n</symbol>\n</defs>\n</svg>\n<style>/* CSS stylesheet for displaying xarray objects in jupyterlab.\n *\n */\n\n:root {\n  --xr-font-color0: var(--jp-content-font-color0, rgba(0, 0, 0, 1));\n  --xr-font-color2: var(--jp-content-font-color2, rgba(0, 0, 0, 0.54));\n  --xr-font-color3: var(--jp-content-font-color3, rgba(0, 0, 0, 0.38));\n  --xr-border-color: var(--jp-border-color2, #e0e0e0);\n  --xr-disabled-color: var(--jp-layout-color3, #bdbdbd);\n  --xr-background-color: var(--jp-layout-color0, white);\n  --xr-background-color-row-even: var(--jp-layout-color1, white);\n  --xr-background-color-row-odd: var(--jp-layout-color2, #eeeeee);\n}\n\nhtml[theme=dark],\nbody.vscode-dark {\n  --xr-font-color0: rgba(255, 255, 255, 1);\n  --xr-font-color2: rgba(255, 255, 255, 0.54);\n  --xr-font-color3: rgba(255, 255, 255, 0.38);\n  --xr-border-color: #1F1F1F;\n  --xr-disabled-color: #515151;\n  --xr-background-color: #111111;\n  --xr-background-color-row-even: #111111;\n  --xr-background-color-row-odd: #313131;\n}\n\n.xr-wrap {\n  display: block;\n  min-width: 300px;\n  max-width: 700px;\n}\n\n.xr-text-repr-fallback {\n  /* fallback to plain text repr when CSS is not injected (untrusted notebook) */\n  display: none;\n}\n\n.xr-header {\n  padding-top: 6px;\n  padding-bottom: 6px;\n  margin-bottom: 4px;\n  border-bottom: solid 1px var(--xr-border-color);\n}\n\n.xr-header > div,\n.xr-header > ul {\n  display: inline;\n  margin-top: 0;\n  margin-bottom: 0;\n}\n\n.xr-obj-type,\n.xr-array-name {\n  margin-left: 2px;\n  margin-right: 10px;\n}\n\n.xr-obj-type {\n  color: var(--xr-font-color2);\n}\n\n.xr-sections {\n  padding-left: 0 !important;\n  display: grid;\n  grid-template-columns: 150px auto auto 1fr 20px 20px;\n}\n\n.xr-section-item {\n  display: contents;\n}\n\n.xr-section-item input {\n  display: none;\n}\n\n.xr-section-item input + label {\n  color: var(--xr-disabled-color);\n}\n\n.xr-section-item input:enabled + label {\n  cursor: pointer;\n  color: var(--xr-font-color2);\n}\n\n.xr-section-item input:enabled + label:hover {\n  color: var(--xr-font-color0);\n}\n\n.xr-section-summary {\n  grid-column: 1;\n  color: var(--xr-font-color2);\n  font-weight: 500;\n}\n\n.xr-section-summary > span {\n  display: inline-block;\n  padding-left: 0.5em;\n}\n\n.xr-section-summary-in:disabled + label {\n  color: var(--xr-font-color2);\n}\n\n.xr-section-summary-in + label:before {\n  display: inline-block;\n  content: '►';\n  font-size: 11px;\n  width: 15px;\n  text-align: center;\n}\n\n.xr-section-summary-in:disabled + label:before {\n  color: var(--xr-disabled-color);\n}\n\n.xr-section-summary-in:checked + label:before {\n  content: '▼';\n}\n\n.xr-section-summary-in:checked + label > span {\n  display: none;\n}\n\n.xr-section-summary,\n.xr-section-inline-details {\n  padding-top: 4px;\n  padding-bottom: 4px;\n}\n\n.xr-section-inline-details {\n  grid-column: 2 / -1;\n}\n\n.xr-section-details {\n  display: none;\n  grid-column: 1 / -1;\n  margin-bottom: 5px;\n}\n\n.xr-section-summary-in:checked ~ .xr-section-details {\n  display: contents;\n}\n\n.xr-array-wrap {\n  grid-column: 1 / -1;\n  display: grid;\n  grid-template-columns: 20px auto;\n}\n\n.xr-array-wrap > label {\n  grid-column: 1;\n  vertical-align: top;\n}\n\n.xr-preview {\n  color: var(--xr-font-color3);\n}\n\n.xr-array-preview,\n.xr-array-data {\n  padding: 0 5px !important;\n  grid-column: 2;\n}\n\n.xr-array-data,\n.xr-array-in:checked ~ .xr-array-preview {\n  display: none;\n}\n\n.xr-array-in:checked ~ .xr-array-data,\n.xr-array-preview {\n  display: inline-block;\n}\n\n.xr-dim-list {\n  display: inline-block !important;\n  list-style: none;\n  padding: 0 !important;\n  margin: 0;\n}\n\n.xr-dim-list li {\n  display: inline-block;\n  padding: 0;\n  margin: 0;\n}\n\n.xr-dim-list:before {\n  content: '(';\n}\n\n.xr-dim-list:after {\n  content: ')';\n}\n\n.xr-dim-list li:not(:last-child):after {\n  content: ',';\n  padding-right: 5px;\n}\n\n.xr-has-index {\n  font-weight: bold;\n}\n\n.xr-var-list,\n.xr-var-item {\n  display: contents;\n}\n\n.xr-var-item > div,\n.xr-var-item label,\n.xr-var-item > .xr-var-name span {\n  background-color: var(--xr-background-color-row-even);\n  margin-bottom: 0;\n}\n\n.xr-var-item > .xr-var-name:hover span {\n  padding-right: 5px;\n}\n\n.xr-var-list > li:nth-child(odd) > div,\n.xr-var-list > li:nth-child(odd) > label,\n.xr-var-list > li:nth-child(odd) > .xr-var-name span {\n  background-color: var(--xr-background-color-row-odd);\n}\n\n.xr-var-name {\n  grid-column: 1;\n}\n\n.xr-var-dims {\n  grid-column: 2;\n}\n\n.xr-var-dtype {\n  grid-column: 3;\n  text-align: right;\n  color: var(--xr-font-color2);\n}\n\n.xr-var-preview {\n  grid-column: 4;\n}\n\n.xr-var-name,\n.xr-var-dims,\n.xr-var-dtype,\n.xr-preview,\n.xr-attrs dt {\n  white-space: nowrap;\n  overflow: hidden;\n  text-overflow: ellipsis;\n  padding-right: 10px;\n}\n\n.xr-var-name:hover,\n.xr-var-dims:hover,\n.xr-var-dtype:hover,\n.xr-attrs dt:hover {\n  overflow: visible;\n  width: auto;\n  z-index: 1;\n}\n\n.xr-var-attrs,\n.xr-var-data {\n  display: none;\n  background-color: var(--xr-background-color) !important;\n  padding-bottom: 5px !important;\n}\n\n.xr-var-attrs-in:checked ~ .xr-var-attrs,\n.xr-var-data-in:checked ~ .xr-var-data {\n  display: block;\n}\n\n.xr-var-data > table {\n  float: right;\n}\n\n.xr-var-name span,\n.xr-var-data,\n.xr-attrs {\n  padding-left: 25px !important;\n}\n\n.xr-attrs,\n.xr-var-attrs,\n.xr-var-data {\n  grid-column: 1 / -1;\n}\n\ndl.xr-attrs {\n  padding: 0;\n  margin: 0;\n  display: grid;\n  grid-template-columns: 125px auto;\n}\n\n.xr-attrs dt, dd {\n  padding: 0;\n  margin: 0;\n  float: left;\n  padding-right: 10px;\n  width: auto;\n}\n\n.xr-attrs dt {\n  font-weight: normal;\n  grid-column: 1;\n}\n\n.xr-attrs dt:hover span {\n  display: inline-block;\n  background: var(--xr-background-color);\n  padding-right: 10px;\n}\n\n.xr-attrs dd {\n  grid-column: 2;\n  white-space: pre-wrap;\n  word-break: break-all;\n}\n\n.xr-icon-database,\n.xr-icon-file-text2 {\n  display: inline-block;\n  vertical-align: middle;\n  width: 1em;\n  height: 1.5em !important;\n  stroke-width: 0;\n  stroke: currentColor;\n  fill: currentColor;\n}\n</style><pre class='xr-text-repr-fallback'>&lt;xarray.DataArray &#x27;agl&#x27; (time: 248, lat: 19, lon: 28)&gt;\narray([[[           nan,            nan,            nan, ...,\n                    nan,            nan,            nan],\n        [           nan,            nan,            nan, ...,\n                    nan,            nan,            nan],\n        [           nan,            nan,            nan, ...,\n                    nan, 1.40527645e-05,            nan],\n        ...,\n        [           nan,            nan,            nan, ...,\n                    nan,            nan,            nan],\n        [           nan,            nan,            nan, ...,\n                    nan,            nan,            nan],\n        [           nan,            nan,            nan, ...,\n                    nan,            nan,            nan]],\n\n       [[           nan,            nan,            nan, ...,\n                    nan,            nan,            nan],\n        [           nan,            nan,            nan, ...,\n                    nan,            nan,            nan],\n        [           nan,            nan,            nan, ...,\n                    nan, 1.54474892e-05,            nan],\n...\n        [           nan,            nan,            nan, ...,\n                    nan,            nan,            nan],\n        [           nan,            nan,            nan, ...,\n                    nan,            nan,            nan],\n        [           nan,            nan,            nan, ...,\n                    nan,            nan,            nan]],\n\n       [[           nan,            nan,            nan, ...,\n                    nan,            nan,            nan],\n        [           nan,            nan,            nan, ...,\n                    nan,            nan,            nan],\n        [           nan,            nan,            nan, ...,\n                    nan, 3.44685031e-05,            nan],\n        ...,\n        [           nan,            nan,            nan, ...,\n                    nan,            nan,            nan],\n        [           nan,            nan,            nan, ...,\n                    nan,            nan,            nan],\n        [           nan,            nan,            nan, ...,\n                    nan,            nan,            nan]]])\nCoordinates:\n  * time     (time) datetime64[ns] 2000-01-15 2000-02-15 ... 2020-08-15\n  * lat      (lat) float64 44.75 44.85 44.95 45.05 ... 46.25 46.35 46.45 46.55\n  * lon      (lon) float64 8.55 8.65 8.75 8.85 8.95 ... 10.95 11.05 11.15 11.25</pre><div class='xr-wrap' hidden><div class='xr-header'><div class='xr-obj-type'>xarray.DataArray</div><div class='xr-array-name'>'agl'</div><ul class='xr-dim-list'><li><span class='xr-has-index'>time</span>: 248</li><li><span class='xr-has-index'>lat</span>: 19</li><li><span class='xr-has-index'>lon</span>: 28</li></ul></div><ul class='xr-sections'><li class='xr-section-item'><div class='xr-array-wrap'><input id='section-8b5ed7fa-be6e-4d05-8418-16a7559f5285' class='xr-array-in' type='checkbox' checked><label for='section-8b5ed7fa-be6e-4d05-8418-16a7559f5285' title='Show/hide data repr'><svg class='icon xr-icon-database'><use xlink:href='#icon-database'></use></svg></label><div class='xr-array-preview xr-preview'><span>nan nan nan nan nan nan nan 5.197e-07 ... nan nan nan nan nan nan nan</span></div><div class='xr-array-data'><pre>array([[[           nan,            nan,            nan, ...,\n                    nan,            nan,            nan],\n        [           nan,            nan,            nan, ...,\n                    nan,            nan,            nan],\n        [           nan,            nan,            nan, ...,\n                    nan, 1.40527645e-05,            nan],\n        ...,\n        [           nan,            nan,            nan, ...,\n                    nan,            nan,            nan],\n        [           nan,            nan,            nan, ...,\n                    nan,            nan,            nan],\n        [           nan,            nan,            nan, ...,\n                    nan,            nan,            nan]],\n\n       [[           nan,            nan,            nan, ...,\n                    nan,            nan,            nan],\n        [           nan,            nan,            nan, ...,\n                    nan,            nan,            nan],\n        [           nan,            nan,            nan, ...,\n                    nan, 1.54474892e-05,            nan],\n...\n        [           nan,            nan,            nan, ...,\n                    nan,            nan,            nan],\n        [           nan,            nan,            nan, ...,\n                    nan,            nan,            nan],\n        [           nan,            nan,            nan, ...,\n                    nan,            nan,            nan]],\n\n       [[           nan,            nan,            nan, ...,\n                    nan,            nan,            nan],\n        [           nan,            nan,            nan, ...,\n                    nan,            nan,            nan],\n        [           nan,            nan,            nan, ...,\n                    nan, 3.44685031e-05,            nan],\n        ...,\n        [           nan,            nan,            nan, ...,\n                    nan,            nan,            nan],\n        [           nan,            nan,            nan, ...,\n                    nan,            nan,            nan],\n        [           nan,            nan,            nan, ...,\n                    nan,            nan,            nan]]])</pre></div></div></li><li class='xr-section-item'><input id='section-adfd722f-de37-47f6-b810-90c60ac15c55' class='xr-section-summary-in' type='checkbox'  checked><label for='section-adfd722f-de37-47f6-b810-90c60ac15c55' class='xr-section-summary' >Coordinates: <span>(3)</span></label><div class='xr-section-inline-details'></div><div class='xr-section-details'><ul class='xr-var-list'><li class='xr-var-item'><div class='xr-var-name'><span class='xr-has-index'>time</span></div><div class='xr-var-dims'>(time)</div><div class='xr-var-dtype'>datetime64[ns]</div><div class='xr-var-preview xr-preview'>2000-01-15 ... 2020-08-15</div><input id='attrs-07fc7ec2-f461-4249-9eba-0b144b0600c7' class='xr-var-attrs-in' type='checkbox' disabled><label for='attrs-07fc7ec2-f461-4249-9eba-0b144b0600c7' title='Show/Hide attributes'><svg class='icon xr-icon-file-text2'><use xlink:href='#icon-file-text2'></use></svg></label><input id='data-5ba3ac78-2670-4c27-b868-8c87ce0cc922' class='xr-var-data-in' type='checkbox'><label for='data-5ba3ac78-2670-4c27-b868-8c87ce0cc922' title='Show/Hide data repr'><svg class='icon xr-icon-database'><use xlink:href='#icon-database'></use></svg></label><div class='xr-var-attrs'><dl class='xr-attrs'></dl></div><div class='xr-var-data'><pre>array([&#x27;2000-01-15T00:00:00.000000000&#x27;, &#x27;2000-02-15T00:00:00.000000000&#x27;,\n       &#x27;2000-03-15T00:00:00.000000000&#x27;, ..., &#x27;2020-06-15T00:00:00.000000000&#x27;,\n       &#x27;2020-07-15T00:00:00.000000000&#x27;, &#x27;2020-08-15T00:00:00.000000000&#x27;],\n      dtype=&#x27;datetime64[ns]&#x27;)</pre></div></li><li class='xr-var-item'><div class='xr-var-name'><span class='xr-has-index'>lat</span></div><div class='xr-var-dims'>(lat)</div><div class='xr-var-dtype'>float64</div><div class='xr-var-preview xr-preview'>44.75 44.85 44.95 ... 46.45 46.55</div><input id='attrs-99ffbf75-5c2f-41ee-b3d1-3479774622fd' class='xr-var-attrs-in' type='checkbox' disabled><label for='attrs-99ffbf75-5c2f-41ee-b3d1-3479774622fd' title='Show/Hide attributes'><svg class='icon xr-icon-file-text2'><use xlink:href='#icon-file-text2'></use></svg></label><input id='data-7cef3114-7686-4149-b235-9c7e77046c5a' class='xr-var-data-in' type='checkbox'><label for='data-7cef3114-7686-4149-b235-9c7e77046c5a' title='Show/Hide data repr'><svg class='icon xr-icon-database'><use xlink:href='#icon-database'></use></svg></label><div class='xr-var-attrs'><dl class='xr-attrs'></dl></div><div class='xr-var-data'><pre>array([44.75    , 44.849998, 44.950001, 45.049999, 45.150002, 45.25    ,\n       45.349998, 45.450001, 45.549999, 45.650002, 45.75    , 45.849998,\n       45.950001, 46.049999, 46.150002, 46.25    , 46.349998, 46.450001,\n       46.549999])</pre></div></li><li class='xr-var-item'><div class='xr-var-name'><span class='xr-has-index'>lon</span></div><div class='xr-var-dims'>(lon)</div><div class='xr-var-dtype'>float64</div><div class='xr-var-preview xr-preview'>8.55 8.65 8.75 ... 11.15 11.25</div><input id='attrs-a1671275-72a2-4f32-9f68-b1c6cf1188e8' class='xr-var-attrs-in' type='checkbox' disabled><label for='attrs-a1671275-72a2-4f32-9f68-b1c6cf1188e8' title='Show/Hide attributes'><svg class='icon xr-icon-file-text2'><use xlink:href='#icon-file-text2'></use></svg></label><input id='data-80bc4c62-e9a6-43fb-92b0-2c6d66e6bb5d' class='xr-var-data-in' type='checkbox'><label for='data-80bc4c62-e9a6-43fb-92b0-2c6d66e6bb5d' title='Show/Hide data repr'><svg class='icon xr-icon-database'><use xlink:href='#icon-database'></use></svg></label><div class='xr-var-attrs'><dl class='xr-attrs'></dl></div><div class='xr-var-data'><pre>array([ 8.55,  8.65,  8.75,  8.85,  8.95,  9.05,  9.15,  9.25,  9.35,  9.45,\n        9.55,  9.65,  9.75,  9.85,  9.95, 10.05, 10.15, 10.25, 10.35, 10.45,\n       10.55, 10.65, 10.75, 10.85, 10.95, 11.05, 11.15, 11.25])</pre></div></li></ul></div></li><li class='xr-section-item'><input id='section-720bfed4-87a1-4ba4-aeb3-4efd976c9211' class='xr-section-summary-in' type='checkbox' disabled ><label for='section-720bfed4-87a1-4ba4-aeb3-4efd976c9211' class='xr-section-summary'  title='Expand/collapse section'>Attributes: <span>(0)</span></label><div class='xr-section-inline-details'></div><div class='xr-section-details'><dl class='xr-attrs'></dl></div></li></ul></div></div>"
     },
     "metadata": {},
     "execution_count": 7
    }
   ],
   "source": [
    "nh3_nc = xr.load_dataset('../datasets/CAMS-GLOB-ANT_Glb_0.1x0.1_anthro_nh3_v4.2_monthly_lombardia.nc') # Copernicus (0.1°x0.1°)\n",
    "nh3_nc.agl"
   ]
  },
  {
   "cell_type": "code",
   "execution_count": 14,
   "metadata": {},
   "outputs": [
    {
     "output_type": "error",
     "ename": "SyntaxError",
     "evalue": "invalid syntax (<ipython-input-14-4f51bad478a3>, line 1)",
     "traceback": [
      "\u001b[1;36m  File \u001b[1;32m\"<ipython-input-14-4f51bad478a3>\"\u001b[1;36m, line \u001b[1;32m1\u001b[0m\n\u001b[1;33m    nh3 = utils.xarray2pandas(nh3_nc.agl, , 1)\u001b[0m\n\u001b[1;37m                                          ^\u001b[0m\n\u001b[1;31mSyntaxError\u001b[0m\u001b[1;31m:\u001b[0m invalid syntax\n"
     ]
    }
   ],
   "source": [
    "# MAX: lat(45.35 6) lon(10.25 17)\n",
    "# TIME: '2000-08-15' '2019-08-15' (Training set)\n",
    "# Scarto i primi mesi fino ad settembre del 2000 per avere esattamente 19 anni, tenendo l'ultimo anno per il training\n",
    "# Abbiamo 228 osservazioni mensili, con k scegliamo quante usarle pere il training, la restante parte verrà usata per il test (Arrotondiamo per anno magari)\n",
    "k = 204\n",
    "nh3_max = utils.cross_validation(nh3_nc.agl, 6, 17, '2000-09-15', '2019-08-15', k)"
   ]
  },
  {
   "cell_type": "code",
   "execution_count": 32,
   "metadata": {},
   "outputs": [
    {
     "output_type": "execute_result",
     "data": {
      "text/plain": [
       "time\n",
       "2000-08-15    0.000231\n",
       "2000-09-15    0.000223\n",
       "2000-10-15    0.000183\n",
       "2000-11-15    0.000119\n",
       "2000-12-15    0.000091\n",
       "                ...   \n",
       "2019-04-15    0.000148\n",
       "2019-05-15    0.000208\n",
       "2019-06-15    0.000244\n",
       "2019-07-15    0.000284\n",
       "2019-08-15    0.000233\n",
       "Name: agl, Length: 229, dtype: float64"
      ]
     },
     "metadata": {},
     "execution_count": 32
    }
   ],
   "source": [
    "# TODO RIMUOVERE\n",
    "\n",
    "import pandas as pd\n",
    "import numpy as np\n",
    "import sklearn.linear_model as skl_lm\n",
    "import matplotlib.pyplot as plt\n",
    "\n",
    "lat = 6\n",
    "lon = 17\n",
    "data = nh3_nc.agl[:,lat,lon].to_series()\n",
    "start_time = '2000-09-15'\n",
    "end_time = '2019-08-15'\n",
    "k = 204\n",
    "\n",
    "data = data[start_time:end_time]\n",
    "\n",
    "data"
   ]
  },
  {
   "cell_type": "code",
   "execution_count": null,
   "metadata": {},
   "outputs": [],
   "source": [
    "# Converting xarray to pandas and select the coordinates\n",
    "data = utils.xarray2pandas(data, lon, lat)\n",
    "\n",
    "# Selecting original training dataset\n",
    "data = data['2000-08-15':'2019-08-15']\n",
    "\n",
    "\n",
    "# We begin by using the sample() function to split the set of observations into two halves: training and test dataset\n",
    "# k is the amount of observation used for the test\n",
    "# random_state is a seed for python's random number generator, so that you'll obtain precisely the same results each time. It is generally a good idea to set a random seed when performing an analysis such as cross-validation that contains an element of randomness, so that the results obtained can be reproduced precisely at a later time.\n",
    "train_df = data.sample(k, random_state = 1)\n",
    "test_df = data[~data.isin(train_df)].dropna(how = 'all')"
   ]
  }
 ]
}